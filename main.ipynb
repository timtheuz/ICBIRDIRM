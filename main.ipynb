{
 "cells": [
  {
   "cell_type": "markdown",
   "source": [
    "# Impact of central bank interest rate decisions on inflation rates and markets\n",
    "Project by: *Timo Gumpp*\n",
    "Course: *Machine Learning for Portfolio Trading*\n",
    "University: *ENSAE Paris*"
   ],
   "metadata": {
    "collapsed": false
   }
  },
  {
   "cell_type": "markdown",
   "source": [
    "### Objective of this project\n",
    "\n",
    "1. Observe how accompanying press statements regarding decisions of interest rate changes differ (length, sentiment, sophistication, etc.)\n",
    "2. Observe correlation of different press releases characteristics on the result of the interest change hike\n",
    "3. Observe impact of characteristics of interest rate announcements (length, sentiment, sophistication, etc.) on inflation development\n",
    "4. (Optionally, out of interest): Observe potential impact of characteristics of interest rate announcements (length, sentiment, sophistication, etc.) on capital markets (e.g., using the example of S&P 500 index)"
   ],
   "metadata": {
    "collapsed": false
   }
  },
  {
   "cell_type": "markdown",
   "source": [
    "\n",
    "### Running **ToDos** of the project:\n",
    "- Add ECB web scraping\n",
    "- Add further sentiment analysis models\n",
    "- Add text analysis (ngrams, etc.)\n",
    "- Use Vectorizing (e.g., TFIDF, etc.)\n",
    "- Add interest rate hikes\n",
    "- Generally add comparisons between EU and US"
   ],
   "metadata": {
    "collapsed": false
   }
  },
  {
   "cell_type": "markdown",
   "source": [
    "### Loading Packages"
   ],
   "metadata": {
    "collapsed": false
   }
  },
  {
   "cell_type": "code",
   "execution_count": 127,
   "outputs": [],
   "source": [
    "import pandas as pd\n",
    "import matplotlib\n",
    "import nltk\n",
    "#import spacy\n",
    "from IPython.display import IFrame\n",
    "import os\n",
    "from bs4 import BeautifulSoup\n",
    "import requests\n",
    "from datetime import datetime\n",
    "import matplotlib.pyplot as plt\n",
    "from sklearn.feature_extraction.text import CountVectorizer, TfidfVectorizer"
   ],
   "metadata": {
    "collapsed": false
   }
  },
  {
   "cell_type": "markdown",
   "source": [
    "### Load in text"
   ],
   "metadata": {
    "collapsed": false
   }
  },
  {
   "cell_type": "markdown",
   "source": [
    "#### What to look at\n",
    "\n",
    "I limit the project on the ECB and the FED, thus looking into inflation in the Eurozone and the US respectively.\n",
    "\n",
    "***\n",
    "- The ECB's council takes interest rate decisions x times a year and each time releases press statements.\n",
    "- The Federal Open Market Commitee (FOMC – the FED's council on moneytary policy decisions) holds regularly scheduled meetings 8 times a year and other meetings as needed. Each time a press statement is released. Every second meeting, this seems to be accompanied by a summary of economic projections.\n",
    "\n",
    "The released statements include xx\n",
    "\n",
    "An **example for a press statement** from both the ECB and the FED can be viewed here and accessed under the these links: __[ECB_Dec23](https://www.ecb.europa.eu/press/pressconf/shared/pdf/ecb.ds231214~cbcff0882a.en.pdf)__ or __[FOMC_Dec23](https://www.federalreserve.gov/monetarypolicy/files/monetary20231213a1.pdf)__"
   ],
   "metadata": {
    "collapsed": false
   }
  },
  {
   "cell_type": "markdown",
   "source": [],
   "metadata": {
    "collapsed": false
   }
  },
  {
   "cell_type": "code",
   "execution_count": 8,
   "outputs": [
    {
     "data": {
      "text/plain": "'/Users/tgumpp/DataspellProjects/ICBIRDIRM'"
     },
     "execution_count": 8,
     "metadata": {},
     "output_type": "execute_result"
    }
   ],
   "source": [
    "os.getcwd()"
   ],
   "metadata": {
    "collapsed": false
   }
  },
  {
   "cell_type": "code",
   "execution_count": 12,
   "outputs": [],
   "source": [
    "filepath_exp_ecb = \"./Documents/ECB/ecb231214.pdf\""
   ],
   "metadata": {
    "collapsed": false
   }
  },
  {
   "cell_type": "code",
   "execution_count": 13,
   "outputs": [
    {
     "data": {
      "text/plain": "<IPython.lib.display.IFrame at 0x7fa578c4d580>",
      "text/html": "\n        <iframe\n            width=\"600\"\n            height=\"300\"\n            src=\"./Documents/ECB/ecb231214.pdf\"\n            frameborder=\"0\"\n            allowfullscreen\n            \n        ></iframe>\n        "
     },
     "execution_count": 13,
     "metadata": {},
     "output_type": "execute_result"
    }
   ],
   "source": [
    "IFrame(filepath_exp_ecb, width=600, height=300)"
   ],
   "metadata": {
    "collapsed": false
   }
  },
  {
   "cell_type": "markdown",
   "source": [
    "We primarily focus on the developments from 2022 to 2023, and will potentally look into developments in 2020 and 2021. The year 2024 is left out of our analysis.\n",
    "The also release minutes, which we're not using in our analysis"
   ],
   "metadata": {
    "collapsed": false
   }
  },
  {
   "cell_type": "markdown",
   "source": [
    "The FOMC's press releases compose themselves of a press statement and an implementation note, highlighting which monetary measures are being taken."
   ],
   "metadata": {
    "collapsed": false
   }
  },
  {
   "cell_type": "code",
   "execution_count": 7,
   "outputs": [
    {
     "name": "stderr",
     "output_type": "stream",
     "text": [
      "[nltk_data] Downloading package punkt to /Users/tgumpp/nltk_data...\n",
      "[nltk_data]   Unzipping tokenizers/punkt.zip.\n"
     ]
    },
    {
     "name": "stdout",
     "output_type": "stream",
     "text": [
      "[('the', 21), ('.', 16), ('and', 15), (',', 13), ('of', 12), ('to', 12), ('Committee', 11), ('The', 8), ('inflation', 8), ('policy', 6)]\n"
     ]
    }
   ],
   "source": [
    "from nltk import FreqDist\n",
    "from nltk.tokenize import word_tokenize\n",
    "\n",
    "# Download NLTK resources (you need to do this once)\n",
    "nltk.download('punkt')\n",
    "\n",
    "# Tokenize the text\n",
    "tokens = word_tokenize(text_test)\n",
    "\n",
    "# Calculate word frequencies\n",
    "word_freq = FreqDist(tokens)\n",
    "\n",
    "# Display the most common words\n",
    "print(word_freq.most_common(10))"
   ],
   "metadata": {
    "collapsed": false
   }
  },
  {
   "cell_type": "markdown",
   "source": [
    "#### Web Mining FOMC"
   ],
   "metadata": {
    "collapsed": false
   }
  },
  {
   "cell_type": "markdown",
   "source": [
    "Extraction of text is automated, the supply of the corresponding URLs not for now"
   ],
   "metadata": {
    "collapsed": false
   }
  },
  {
   "cell_type": "code",
   "execution_count": 57,
   "outputs": [],
   "source": [
    "fomc_statements_url_list = ['https://www.federalreserve.gov/newsevents/pressreleases/monetary20230201a.htm',\n",
    "                            'https://www.federalreserve.gov/newsevents/pressreleases/monetary20230322a.htm',\n",
    "                            'https://www.federalreserve.gov/newsevents/pressreleases/monetary20230503a.htm',\n",
    "                            'https://www.federalreserve.gov/newsevents/pressreleases/monetary20230614a.htm',\n",
    "                            'https://www.federalreserve.gov/newsevents/pressreleases/monetary20230726a.htm',\n",
    "                            'https://www.federalreserve.gov/newsevents/pressreleases/monetary20230920a.htm',\n",
    "                            'https://www.federalreserve.gov/newsevents/pressreleases/monetary20231101a.htm',\n",
    "                            'https://www.federalreserve.gov/newsevents/pressreleases/monetary20231213a.htm']"
   ],
   "metadata": {
    "collapsed": false
   }
  },
  {
   "cell_type": "code",
   "execution_count": 9,
   "outputs": [],
   "source": [
    "# To automate: Cycle through URLs here\n",
    "url = \"https://www.federalreserve.gov/newsevents/pressreleases/monetary20231101a.htm\"\n",
    "page = requests.get(url)\n",
    "soup = BeautifulSoup(page.text, 'html')"
   ],
   "metadata": {
    "collapsed": false
   }
  },
  {
   "cell_type": "code",
   "execution_count": 55,
   "outputs": [],
   "source": [
    "target_text = soup.find('div', class_='col-xs-12 col-sm-8 col-md-8')\n",
    "target_date = soup.find('p', class_='article__time')\n",
    "target_url = soup.find('meta', property='og:url').get('content')"
   ],
   "metadata": {
    "collapsed": false
   }
  },
  {
   "cell_type": "code",
   "execution_count": 213,
   "outputs": [],
   "source": [
    "# TODO: add if / else if mining fails\n",
    "def process_text(text):\n",
    "    list = [title.text.strip() for title in text]\n",
    "    text_final = ' '.join(map(str, list))\n",
    "    return text_final\n",
    "\n",
    "def process_date(date):\n",
    "    raw_date = date.get_text(strip=True)\n",
    "    #print(\"Raw Date:\", raw_date)\n",
    "\n",
    "    # Transform the date format\n",
    "    datetime_object = datetime.strptime(raw_date, '%B %d, %Y')\n",
    "    formatted_date = datetime_object.strftime('%d.%m.%Y')\n",
    "    return pd.to_datetime(formatted_date, format='%d.%m.%Y')\n",
    "\n",
    "def process_url(url):\n",
    "    return url.split('/')[-1].split('.')[0]"
   ],
   "metadata": {
    "collapsed": false
   }
  },
  {
   "cell_type": "code",
   "execution_count": 246,
   "outputs": [
    {
     "name": "stderr",
     "output_type": "stream",
     "text": [
      "/var/folders/n_/mj2qn5sd20lb04k5gcvn8fbr0000gn/T/ipykernel_2950/3620499659.py:12: FutureWarning: The frame.append method is deprecated and will be removed from pandas in a future version. Use pandas.concat instead.\n",
      "  df_fomc_press_statements = df_fomc_press_statements.append({'Filename': process_url(target_url), 'Date': process_date(target_date), 'Text': process_text(target_text)}, ignore_index=True)\n",
      "/var/folders/n_/mj2qn5sd20lb04k5gcvn8fbr0000gn/T/ipykernel_2950/3620499659.py:12: FutureWarning: The frame.append method is deprecated and will be removed from pandas in a future version. Use pandas.concat instead.\n",
      "  df_fomc_press_statements = df_fomc_press_statements.append({'Filename': process_url(target_url), 'Date': process_date(target_date), 'Text': process_text(target_text)}, ignore_index=True)\n",
      "/var/folders/n_/mj2qn5sd20lb04k5gcvn8fbr0000gn/T/ipykernel_2950/3620499659.py:12: FutureWarning: The frame.append method is deprecated and will be removed from pandas in a future version. Use pandas.concat instead.\n",
      "  df_fomc_press_statements = df_fomc_press_statements.append({'Filename': process_url(target_url), 'Date': process_date(target_date), 'Text': process_text(target_text)}, ignore_index=True)\n",
      "/var/folders/n_/mj2qn5sd20lb04k5gcvn8fbr0000gn/T/ipykernel_2950/3620499659.py:12: FutureWarning: The frame.append method is deprecated and will be removed from pandas in a future version. Use pandas.concat instead.\n",
      "  df_fomc_press_statements = df_fomc_press_statements.append({'Filename': process_url(target_url), 'Date': process_date(target_date), 'Text': process_text(target_text)}, ignore_index=True)\n",
      "/var/folders/n_/mj2qn5sd20lb04k5gcvn8fbr0000gn/T/ipykernel_2950/3620499659.py:12: FutureWarning: The frame.append method is deprecated and will be removed from pandas in a future version. Use pandas.concat instead.\n",
      "  df_fomc_press_statements = df_fomc_press_statements.append({'Filename': process_url(target_url), 'Date': process_date(target_date), 'Text': process_text(target_text)}, ignore_index=True)\n",
      "/var/folders/n_/mj2qn5sd20lb04k5gcvn8fbr0000gn/T/ipykernel_2950/3620499659.py:12: FutureWarning: The frame.append method is deprecated and will be removed from pandas in a future version. Use pandas.concat instead.\n",
      "  df_fomc_press_statements = df_fomc_press_statements.append({'Filename': process_url(target_url), 'Date': process_date(target_date), 'Text': process_text(target_text)}, ignore_index=True)\n",
      "/var/folders/n_/mj2qn5sd20lb04k5gcvn8fbr0000gn/T/ipykernel_2950/3620499659.py:12: FutureWarning: The frame.append method is deprecated and will be removed from pandas in a future version. Use pandas.concat instead.\n",
      "  df_fomc_press_statements = df_fomc_press_statements.append({'Filename': process_url(target_url), 'Date': process_date(target_date), 'Text': process_text(target_text)}, ignore_index=True)\n",
      "/var/folders/n_/mj2qn5sd20lb04k5gcvn8fbr0000gn/T/ipykernel_2950/3620499659.py:12: FutureWarning: The frame.append method is deprecated and will be removed from pandas in a future version. Use pandas.concat instead.\n",
      "  df_fomc_press_statements = df_fomc_press_statements.append({'Filename': process_url(target_url), 'Date': process_date(target_date), 'Text': process_text(target_text)}, ignore_index=True)\n"
     ]
    }
   ],
   "source": [
    "df_fomc_press_statements = pd.DataFrame(columns = {\"Filename\", \"Date\", \"Text\"})\n",
    "\n",
    "for x in fomc_statements_url_list:\n",
    "    page = requests.get(x)\n",
    "    soup = BeautifulSoup(page.text, 'html')\n",
    "\n",
    "    target_text = soup.find('div', class_='col-xs-12 col-sm-8 col-md-8')\n",
    "    target_date = soup.find('p', class_='article__time')\n",
    "    target_url = soup.find('meta', property='og:url').get('content')\n",
    "\n",
    "    # run processing and add processed to df\n",
    "    df_fomc_press_statements = df_fomc_press_statements.append({'Filename': process_url(target_url), 'Date': process_date(target_date), 'Text': process_text(target_text)}, ignore_index=True)"
   ],
   "metadata": {
    "collapsed": false
   }
  },
  {
   "cell_type": "code",
   "execution_count": 247,
   "outputs": [
    {
     "data": {
      "text/plain": "                  Date                                               Text  \\\n0  2023-02-01 00:00:00   Recent indicators point to modest growth in s...   \n1  2023-03-22 00:00:00   Recent indicators point to modest growth in s...   \n2  2023-05-03 00:00:00   Economic activity expanded at a modest pace i...   \n3  2023-06-14 00:00:00   Recent indicators suggest that economic activ...   \n4  2023-07-26 00:00:00   Recent indicators suggest that economic activ...   \n5  2023-09-20 00:00:00   Recent indicators suggest that economic activ...   \n6  2023-11-01 00:00:00   Recent indicators suggest that economic activ...   \n7  2023-12-13 00:00:00   Recent indicators suggest that growth of econ...   \n\n            Filename  \n0  monetary20230201a  \n1  monetary20230322a  \n2  monetary20230503a  \n3  monetary20230614a  \n4  monetary20230726a  \n5  monetary20230920a  \n6  monetary20231101a  \n7  monetary20231213a  ",
      "text/html": "<div>\n<style scoped>\n    .dataframe tbody tr th:only-of-type {\n        vertical-align: middle;\n    }\n\n    .dataframe tbody tr th {\n        vertical-align: top;\n    }\n\n    .dataframe thead th {\n        text-align: right;\n    }\n</style>\n<table border=\"1\" class=\"dataframe\">\n  <thead>\n    <tr style=\"text-align: right;\">\n      <th></th>\n      <th>Date</th>\n      <th>Text</th>\n      <th>Filename</th>\n    </tr>\n  </thead>\n  <tbody>\n    <tr>\n      <th>0</th>\n      <td>2023-02-01 00:00:00</td>\n      <td>Recent indicators point to modest growth in s...</td>\n      <td>monetary20230201a</td>\n    </tr>\n    <tr>\n      <th>1</th>\n      <td>2023-03-22 00:00:00</td>\n      <td>Recent indicators point to modest growth in s...</td>\n      <td>monetary20230322a</td>\n    </tr>\n    <tr>\n      <th>2</th>\n      <td>2023-05-03 00:00:00</td>\n      <td>Economic activity expanded at a modest pace i...</td>\n      <td>monetary20230503a</td>\n    </tr>\n    <tr>\n      <th>3</th>\n      <td>2023-06-14 00:00:00</td>\n      <td>Recent indicators suggest that economic activ...</td>\n      <td>monetary20230614a</td>\n    </tr>\n    <tr>\n      <th>4</th>\n      <td>2023-07-26 00:00:00</td>\n      <td>Recent indicators suggest that economic activ...</td>\n      <td>monetary20230726a</td>\n    </tr>\n    <tr>\n      <th>5</th>\n      <td>2023-09-20 00:00:00</td>\n      <td>Recent indicators suggest that economic activ...</td>\n      <td>monetary20230920a</td>\n    </tr>\n    <tr>\n      <th>6</th>\n      <td>2023-11-01 00:00:00</td>\n      <td>Recent indicators suggest that economic activ...</td>\n      <td>monetary20231101a</td>\n    </tr>\n    <tr>\n      <th>7</th>\n      <td>2023-12-13 00:00:00</td>\n      <td>Recent indicators suggest that growth of econ...</td>\n      <td>monetary20231213a</td>\n    </tr>\n  </tbody>\n</table>\n</div>"
     },
     "execution_count": 247,
     "metadata": {},
     "output_type": "execute_result"
    }
   ],
   "source": [
    "#df_fomc_press_statements['Date'] = pd.to_datetime(df_fomc_press_statements['Date'], format='%d.%m.%Y')\n",
    "df_fomc_press_statements"
   ],
   "metadata": {
    "collapsed": false
   }
  },
  {
   "cell_type": "code",
   "execution_count": null,
   "outputs": [],
   "source": [],
   "metadata": {
    "collapsed": false
   }
  },
  {
   "cell_type": "code",
   "execution_count": null,
   "outputs": [],
   "source": [],
   "metadata": {
    "collapsed": false
   }
  },
  {
   "cell_type": "markdown",
   "source": [
    "### Load inflation data"
   ],
   "metadata": {
    "collapsed": false
   }
  },
  {
   "cell_type": "markdown",
   "source": [
    "#### US inflation data"
   ],
   "metadata": {
    "collapsed": false
   }
  },
  {
   "cell_type": "code",
   "execution_count": 89,
   "outputs": [],
   "source": [
    "url_us_inf = \"https://www.usinflationcalculator.com/inflation/current-inflation-rates/\"\n",
    "page_us_inf = requests.get(url_us_inf)\n",
    "response = requests.get(url_us_inf)\n",
    "\n",
    "# Parse HTML with BeautifulSoup\n",
    "soup = BeautifulSoup(response.content, 'html.parser')\n",
    "\n",
    "# Find the table\n",
    "table = soup.find('table')\n",
    "\n",
    "# Extract table data\n",
    "data = []\n",
    "for row in table.find_all('tr'):\n",
    "    row_data = [cell.get_text(strip=True) for cell in row.find_all(['td', 'th'])]\n",
    "    data.append(row_data)\n",
    "\n",
    "# Create a DataFrame\n",
    "df = pd.DataFrame(data[1:], columns=data[0])\n",
    "df_us_inf = df"
   ],
   "metadata": {
    "collapsed": false
   }
  },
  {
   "cell_type": "code",
   "execution_count": 112,
   "outputs": [
    {
     "data": {
      "text/plain": "<Figure size 720x432 with 1 Axes>",
      "image/png": "[encoded data removed]"
     },
     "metadata": {
      "needs_background": "light"
     },
     "output_type": "display_data"
    }
   ],
   "source": [
    "import matplotlib.pyplot as plt\n",
    "\n",
    "# Extract relevant columns for plotting\n",
    "months = df_us_inf.columns[1:-1]  # Exclude the 'Year' and 'Ave' columns\n",
    "years = df_us_inf['Year'].head(4)\n",
    "inflation_data = df_us_inf.iloc[:5, 1:-1].astype(float)  # Exclude the 'Year' and 'Ave' columns\n",
    "\n",
    "# Plot the evolution of inflation rates\n",
    "plt.figure(figsize=(10, 6))\n",
    "\n",
    "for year in years:\n",
    "    plt.plot(months, inflation_data.loc[df_us_inf['Year'] == year].values.flatten(), label=str(year))\n",
    "\n",
    "plt.title('US Inflation Rate Evolution for 2019 to 2023')\n",
    "plt.xlabel('Month')\n",
    "plt.ylabel('Inflation Rate')\n",
    "plt.legend(title='Year', loc='upper left', bbox_to_anchor=(1, 1))\n",
    "\n",
    "plt.show()"
   ],
   "metadata": {
    "collapsed": false
   }
  },
  {
   "cell_type": "code",
   "execution_count": 228,
   "outputs": [
    {
     "data": {
      "text/plain": "<Figure size 1008x432 with 1 Axes>",
      "image/png": "[encoded data removed]"
     },
     "metadata": {
      "needs_background": "light"
     },
     "output_type": "display_data"
    }
   ],
   "source": [
    "# Convert 'Year' column to integer\n",
    "df_us_inf['Year'] = df_us_inf['Year'].astype(int)\n",
    "\n",
    "# Remove Avg\n",
    "df_us_inf = df_us_inf.drop('Ave', axis = 1)\n",
    "\n",
    "# Reshape the DataFrame to a longer format\n",
    "df_long = pd.melt(df_us_inf, id_vars='Year', var_name='Month', value_name='Inflation Rate')\n",
    "\n",
    "# Filter data for the last 4 years (2020 to 2023)\n",
    "df_long_last_4_years = df_long[df_long['Year'].between(2020, 2023)]\n",
    "\n",
    "# Plot the evolution of inflation rates for the last 4 years\n",
    "plt.figure(figsize=(14, 6))  # Adjust the figure size for better visibility\n",
    "\n",
    "for year in sorted(df_long_last_4_years['Year'].unique(), reverse=False):\n",
    "    df_subset = df_long_last_4_years[df_long_last_4_years['Year'] == year]\n",
    "    plt.plot(df_subset['Month'] + ' ' + df_subset['Year'].astype(str), df_subset['Inflation Rate'].astype(float), label=str(year))\n",
    "\n",
    "plt.title('Inflation Rate Evolution (2020-2023)')\n",
    "plt.xlabel('Month-Year')\n",
    "plt.ylabel('Inflation Rate')\n",
    "plt.xticks(rotation=45, ha='right')  # Rotate x-axis labels for better readability\n",
    "plt.legend(title='Year', loc='upper left', bbox_to_anchor=(1, 1))\n",
    "\n",
    "plt.show()"
   ],
   "metadata": {
    "collapsed": false
   }
  },
  {
   "cell_type": "markdown",
   "source": [
    "#### EU inflation data"
   ],
   "metadata": {
    "collapsed": false
   }
  },
  {
   "cell_type": "code",
   "execution_count": null,
   "outputs": [],
   "source": [],
   "metadata": {
    "collapsed": false
   }
  },
  {
   "cell_type": "code",
   "execution_count": null,
   "outputs": [],
   "source": [],
   "metadata": {
    "collapsed": false
   }
  },
  {
   "cell_type": "code",
   "execution_count": null,
   "outputs": [],
   "source": [],
   "metadata": {
    "collapsed": false
   }
  },
  {
   "cell_type": "code",
   "execution_count": null,
   "outputs": [],
   "source": [],
   "metadata": {
    "collapsed": false
   }
  },
  {
   "cell_type": "code",
   "execution_count": null,
   "outputs": [],
   "source": [],
   "metadata": {
    "collapsed": false
   }
  },
  {
   "cell_type": "code",
   "execution_count": null,
   "outputs": [],
   "source": [],
   "metadata": {
    "collapsed": false
   }
  },
  {
   "cell_type": "markdown",
   "source": [
    "### Load market data"
   ],
   "metadata": {
    "collapsed": false
   }
  },
  {
   "cell_type": "markdown",
   "source": [
    "#### S&P 500 ETF"
   ],
   "metadata": {
    "collapsed": false
   }
  },
  {
   "cell_type": "code",
   "execution_count": 130,
   "outputs": [
    {
     "data": {
      "text/plain": "{'phone': '1-800-474-2737',\n 'longBusinessSummary': 'The index measures the performance of the large-capitalization sector of the U.S. equity market, as determined by SPDJI. The fund generally will invest at least 80% of its assets in the component securities of its index and in investments that have economic characteristics that are substantially identical to the component securities of its index and may invest up to 20% of its assets in certain futures, options and swap contracts, cash and cash equivalents.',\n 'maxAge': 86400,\n 'priceHint': 2,\n 'previousClose': 490.33,\n 'open': 489.92,\n 'dayLow': 488.9,\n 'dayHigh': 491.44,\n 'regularMarketPreviousClose': 490.33,\n 'regularMarketOpen': 489.92,\n 'regularMarketDayLow': 488.9,\n 'regularMarketDayHigh': 491.44,\n 'trailingPE': 24.572989,\n 'volume': 4097585,\n 'regularMarketVolume': 4097585,\n 'averageVolume': 5167219,\n 'averageVolume10days': 5661910,\n 'averageDailyVolume10Day': 5661910,\n 'bid': 486.14,\n 'ask': 489.82,\n 'bidSize': 800,\n 'askSize': 800,\n 'yield': 0.0145000005,\n 'totalAssets': 399635808256,\n 'fiftyTwoWeekLow': 382.37,\n 'fiftyTwoWeekHigh': 491.45,\n 'fiftyDayAverage': 469.8432,\n 'twoHundredDayAverage': 443.35364,\n 'trailingAnnualDividendRate': 5.688,\n 'trailingAnnualDividendYield': 0.011600352,\n 'navPrice': 487.5885,\n 'currency': 'USD',\n 'category': 'Large Blend',\n 'ytdReturn': 0.0208948,\n 'beta3Year': 1.0,\n 'fundFamily': 'iShares',\n 'fundInceptionDate': 958348800,\n 'legalType': 'Exchange Traded Fund',\n 'threeYearAverageReturn': 0.0990118,\n 'fiveYearAverageReturn': 0.14916469,\n 'exchange': 'PCX',\n 'quoteType': 'ETF',\n 'symbol': 'IVV',\n 'underlyingSymbol': 'IVV',\n 'shortName': 'iShares Core S&P 500 ETF',\n 'longName': 'iShares Core S&P 500 ETF',\n 'firstTradeDateEpochUtc': 958743000,\n 'timeZoneFullName': 'America/New_York',\n 'timeZoneShortName': 'EST',\n 'uuid': '17732e4a-0401-33ba-977d-a9848ab99a1e',\n 'messageBoardId': 'finmb_8797798',\n 'gmtOffSetMilliseconds': -18000000,\n 'trailingPegRatio': None}"
     },
     "execution_count": 130,
     "metadata": {},
     "output_type": "execute_result"
    }
   ],
   "source": [
    "import yfinance as yf\n",
    "\n",
    "sp500 = yf.Ticker(\"IVV\")\n",
    "\n",
    "sp500.info"
   ],
   "metadata": {
    "collapsed": false
   }
  },
  {
   "cell_type": "code",
   "execution_count": 131,
   "outputs": [
    {
     "data": {
      "text/plain": "                                 Open        High         Low       Close  \\\nDate                                                                        \n2023-12-27 00:00:00-05:00  477.779999  478.899994  477.160004  478.779999   \n2023-12-28 00:00:00-05:00  479.149994  479.790009  478.519989  479.000000   \n2023-12-29 00:00:00-05:00  478.730011  479.260010  475.540009  477.630005   \n2024-01-02 00:00:00-05:00  474.399994  475.880005  472.700012  474.890015   \n2024-01-03 00:00:00-05:00  472.660004  473.410004  470.380005  471.010010   \n2024-01-04 00:00:00-05:00  470.510010  473.190002  469.269989  469.559998   \n2024-01-05 00:00:00-05:00  469.700012  472.660004  468.649994  470.119995   \n2024-01-08 00:00:00-05:00  470.619995  476.980011  470.549988  476.589996   \n2024-01-09 00:00:00-05:00  474.179993  477.170013  473.600006  476.140015   \n2024-01-10 00:00:00-05:00  476.390015  479.690002  476.140015  478.809998   \n2024-01-11 00:00:00-05:00  479.839996  480.350006  474.500000  478.549988   \n2024-01-12 00:00:00-05:00  480.149994  480.850006  477.500000  478.959991   \n2024-01-16 00:00:00-05:00  477.510010  478.859985  475.320007  477.299988   \n2024-01-17 00:00:00-05:00  474.059998  475.040009  472.109985  474.619995   \n2024-01-18 00:00:00-05:00  476.220001  479.299988  474.679993  478.690002   \n2024-01-19 00:00:00-05:00  479.929993  485.019989  479.239990  484.679993   \n2024-01-22 00:00:00-05:00  486.369995  487.540009  485.119995  485.730011   \n2024-01-23 00:00:00-05:00  486.369995  487.410004  485.190002  487.239990   \n2024-01-24 00:00:00-05:00  490.130005  491.100006  487.339996  487.609985   \n2024-01-25 00:00:00-05:00  489.940002  490.619995  487.730011  490.329987   \n2024-01-26 00:00:00-05:00  489.920013  491.450012  488.880005  489.820007   \n\n                             Volume  Dividends  Stock Splits  Capital Gains  \nDate                                                                         \n2023-12-27 00:00:00-05:00   3761000        0.0           0.0            0.0  \n2023-12-28 00:00:00-05:00   3429500        0.0           0.0            0.0  \n2023-12-29 00:00:00-05:00   3989700        0.0           0.0            0.0  \n2024-01-02 00:00:00-05:00   5185100        0.0           0.0            0.0  \n2024-01-03 00:00:00-05:00   5996000        0.0           0.0            0.0  \n2024-01-04 00:00:00-05:00   6198300        0.0           0.0            0.0  \n2024-01-05 00:00:00-05:00  10429100        0.0           0.0            0.0  \n2024-01-08 00:00:00-05:00   8460200        0.0           0.0            0.0  \n2024-01-09 00:00:00-05:00   5361200        0.0           0.0            0.0  \n2024-01-10 00:00:00-05:00   5500300        0.0           0.0            0.0  \n2024-01-11 00:00:00-05:00   7450200        0.0           0.0            0.0  \n2024-01-12 00:00:00-05:00   3796900        0.0           0.0            0.0  \n2024-01-16 00:00:00-05:00   8024500        0.0           0.0            0.0  \n2024-01-17 00:00:00-05:00   8311000        0.0           0.0            0.0  \n2024-01-18 00:00:00-05:00   4871700        0.0           0.0            0.0  \n2024-01-19 00:00:00-05:00   5474700        0.0           0.0            0.0  \n2024-01-22 00:00:00-05:00   7017000        0.0           0.0            0.0  \n2024-01-23 00:00:00-05:00   2839700        0.0           0.0            0.0  \n2024-01-24 00:00:00-05:00   5547700        0.0           0.0            0.0  \n2024-01-25 00:00:00-05:00   6638200        0.0           0.0            0.0  \n2024-01-26 00:00:00-05:00   4097700        0.0           0.0            0.0  ",
      "text/html": "<div>\n<style scoped>\n    .dataframe tbody tr th:only-of-type {\n        vertical-align: middle;\n    }\n\n    .dataframe tbody tr th {\n        vertical-align: top;\n    }\n\n    .dataframe thead th {\n        text-align: right;\n    }\n</style>\n<table border=\"1\" class=\"dataframe\">\n  <thead>\n    <tr style=\"text-align: right;\">\n      <th></th>\n      <th>Open</th>\n      <th>High</th>\n      <th>Low</th>\n      <th>Close</th>\n      <th>Volume</th>\n      <th>Dividends</th>\n      <th>Stock Splits</th>\n      <th>Capital Gains</th>\n    </tr>\n    <tr>\n      <th>Date</th>\n      <th></th>\n      <th></th>\n      <th></th>\n      <th></th>\n      <th></th>\n      <th></th>\n      <th></th>\n      <th></th>\n    </tr>\n  </thead>\n  <tbody>\n    <tr>\n      <th>2023-12-27 00:00:00-05:00</th>\n      <td>477.779999</td>\n      <td>478.899994</td>\n      <td>477.160004</td>\n      <td>478.779999</td>\n      <td>3761000</td>\n      <td>0.0</td>\n      <td>0.0</td>\n      <td>0.0</td>\n    </tr>\n    <tr>\n      <th>2023-12-28 00:00:00-05:00</th>\n      <td>479.149994</td>\n      <td>479.790009</td>\n      <td>478.519989</td>\n      <td>479.000000</td>\n      <td>3429500</td>\n      <td>0.0</td>\n      <td>0.0</td>\n      <td>0.0</td>\n    </tr>\n    <tr>\n      <th>2023-12-29 00:00:00-05:00</th>\n      <td>478.730011</td>\n      <td>479.260010</td>\n      <td>475.540009</td>\n      <td>477.630005</td>\n      <td>3989700</td>\n      <td>0.0</td>\n      <td>0.0</td>\n      <td>0.0</td>\n    </tr>\n    <tr>\n      <th>2024-01-02 00:00:00-05:00</th>\n      <td>474.399994</td>\n      <td>475.880005</td>\n      <td>472.700012</td>\n      <td>474.890015</td>\n      <td>5185100</td>\n      <td>0.0</td>\n      <td>0.0</td>\n      <td>0.0</td>\n    </tr>\n    <tr>\n      <th>2024-01-03 00:00:00-05:00</th>\n      <td>472.660004</td>\n      <td>473.410004</td>\n      <td>470.380005</td>\n      <td>471.010010</td>\n      <td>5996000</td>\n      <td>0.0</td>\n      <td>0.0</td>\n      <td>0.0</td>\n    </tr>\n    <tr>\n      <th>2024-01-04 00:00:00-05:00</th>\n      <td>470.510010</td>\n      <td>473.190002</td>\n      <td>469.269989</td>\n      <td>469.559998</td>\n      <td>6198300</td>\n      <td>0.0</td>\n      <td>0.0</td>\n      <td>0.0</td>\n    </tr>\n    <tr>\n      <th>2024-01-05 00:00:00-05:00</th>\n      <td>469.700012</td>\n      <td>472.660004</td>\n      <td>468.649994</td>\n      <td>470.119995</td>\n      <td>10429100</td>\n      <td>0.0</td>\n      <td>0.0</td>\n      <td>0.0</td>\n    </tr>\n    <tr>\n      <th>2024-01-08 00:00:00-05:00</th>\n      <td>470.619995</td>\n      <td>476.980011</td>\n      <td>470.549988</td>\n      <td>476.589996</td>\n      <td>8460200</td>\n      <td>0.0</td>\n      <td>0.0</td>\n      <td>0.0</td>\n    </tr>\n    <tr>\n      <th>2024-01-09 00:00:00-05:00</th>\n      <td>474.179993</td>\n      <td>477.170013</td>\n      <td>473.600006</td>\n      <td>476.140015</td>\n      <td>5361200</td>\n      <td>0.0</td>\n      <td>0.0</td>\n      <td>0.0</td>\n    </tr>\n    <tr>\n      <th>2024-01-10 00:00:00-05:00</th>\n      <td>476.390015</td>\n      <td>479.690002</td>\n      <td>476.140015</td>\n      <td>478.809998</td>\n      <td>5500300</td>\n      <td>0.0</td>\n      <td>0.0</td>\n      <td>0.0</td>\n    </tr>\n    <tr>\n      <th>2024-01-11 00:00:00-05:00</th>\n      <td>479.839996</td>\n      <td>480.350006</td>\n      <td>474.500000</td>\n      <td>478.549988</td>\n      <td>7450200</td>\n      <td>0.0</td>\n      <td>0.0</td>\n      <td>0.0</td>\n    </tr>\n    <tr>\n      <th>2024-01-12 00:00:00-05:00</th>\n      <td>480.149994</td>\n      <td>480.850006</td>\n      <td>477.500000</td>\n      <td>478.959991</td>\n      <td>3796900</td>\n      <td>0.0</td>\n      <td>0.0</td>\n      <td>0.0</td>\n    </tr>\n    <tr>\n      <th>2024-01-16 00:00:00-05:00</th>\n      <td>477.510010</td>\n      <td>478.859985</td>\n      <td>475.320007</td>\n      <td>477.299988</td>\n      <td>8024500</td>\n      <td>0.0</td>\n      <td>0.0</td>\n      <td>0.0</td>\n    </tr>\n    <tr>\n      <th>2024-01-17 00:00:00-05:00</th>\n      <td>474.059998</td>\n      <td>475.040009</td>\n      <td>472.109985</td>\n      <td>474.619995</td>\n      <td>8311000</td>\n      <td>0.0</td>\n      <td>0.0</td>\n      <td>0.0</td>\n    </tr>\n    <tr>\n      <th>2024-01-18 00:00:00-05:00</th>\n      <td>476.220001</td>\n      <td>479.299988</td>\n      <td>474.679993</td>\n      <td>478.690002</td>\n      <td>4871700</td>\n      <td>0.0</td>\n      <td>0.0</td>\n      <td>0.0</td>\n    </tr>\n    <tr>\n      <th>2024-01-19 00:00:00-05:00</th>\n      <td>479.929993</td>\n      <td>485.019989</td>\n      <td>479.239990</td>\n      <td>484.679993</td>\n      <td>5474700</td>\n      <td>0.0</td>\n      <td>0.0</td>\n      <td>0.0</td>\n    </tr>\n    <tr>\n      <th>2024-01-22 00:00:00-05:00</th>\n      <td>486.369995</td>\n      <td>487.540009</td>\n      <td>485.119995</td>\n      <td>485.730011</td>\n      <td>7017000</td>\n      <td>0.0</td>\n      <td>0.0</td>\n      <td>0.0</td>\n    </tr>\n    <tr>\n      <th>2024-01-23 00:00:00-05:00</th>\n      <td>486.369995</td>\n      <td>487.410004</td>\n      <td>485.190002</td>\n      <td>487.239990</td>\n      <td>2839700</td>\n      <td>0.0</td>\n      <td>0.0</td>\n      <td>0.0</td>\n    </tr>\n    <tr>\n      <th>2024-01-24 00:00:00-05:00</th>\n      <td>490.130005</td>\n      <td>491.100006</td>\n      <td>487.339996</td>\n      <td>487.609985</td>\n      <td>5547700</td>\n      <td>0.0</td>\n      <td>0.0</td>\n      <td>0.0</td>\n    </tr>\n    <tr>\n      <th>2024-01-25 00:00:00-05:00</th>\n      <td>489.940002</td>\n      <td>490.619995</td>\n      <td>487.730011</td>\n      <td>490.329987</td>\n      <td>6638200</td>\n      <td>0.0</td>\n      <td>0.0</td>\n      <td>0.0</td>\n    </tr>\n    <tr>\n      <th>2024-01-26 00:00:00-05:00</th>\n      <td>489.920013</td>\n      <td>491.450012</td>\n      <td>488.880005</td>\n      <td>489.820007</td>\n      <td>4097700</td>\n      <td>0.0</td>\n      <td>0.0</td>\n      <td>0.0</td>\n    </tr>\n  </tbody>\n</table>\n</div>"
     },
     "execution_count": 131,
     "metadata": {},
     "output_type": "execute_result"
    }
   ],
   "source": [
    "# get historical market data\n",
    "sp500.history(period=\"1mo\")"
   ],
   "metadata": {
    "collapsed": false
   }
  },
  {
   "cell_type": "code",
   "execution_count": 139,
   "outputs": [
    {
     "name": "stderr",
     "output_type": "stream",
     "text": [
      "[*********************100%%**********************]  1 of 1 completed\n"
     ]
    },
    {
     "data": {
      "text/plain": "<Figure size 1008x432 with 1 Axes>",
      "image/png": "[encoded data removed]"
     },
     "metadata": {
      "needs_background": "light"
     },
     "output_type": "display_data"
    }
   ],
   "source": [
    "from datetime import date, timedelta\n",
    "\n",
    "Start = date(2020, 1, 1)\n",
    "Start.strftime('%Y-%m-%d')\n",
    "\n",
    "End = date(2023, 12, 31)\n",
    "End.strftime('%Y-%m-%d')\n",
    "\n",
    "def closing_price(ticker):\n",
    "    Asset = pd.DataFrame(yf.download(ticker, start=Start,\n",
    "                                     end=End)['Adj Close'])\n",
    "    return Asset\n",
    "\n",
    "SP500 = closing_price('IVV')\n",
    "\n",
    "plt.figure(figsize=(14, 6))\n",
    "plt.plot(SP500)\n",
    "plt.show()"
   ],
   "metadata": {
    "collapsed": false
   }
  },
  {
   "cell_type": "markdown",
   "source": [
    "https://aroussi.com/post/python-yahoo-finance\n",
    "python y finance"
   ],
   "metadata": {
    "collapsed": false
   }
  },
  {
   "cell_type": "markdown",
   "source": [
    "### Processing text"
   ],
   "metadata": {
    "collapsed": false
   }
  },
  {
   "cell_type": "markdown",
   "source": [
    "Preprocessing text, these are typical steps to pursue to prepare a meaningful dataset for text.\n",
    "\n",
    "- Lemmanization\n",
    "- Stemming\n",
    "- Removal of Stopwords\n",
    "-"
   ],
   "metadata": {
    "collapsed": false
   }
  },
  {
   "cell_type": "code",
   "execution_count": null,
   "outputs": [],
   "source": [],
   "metadata": {
    "collapsed": false
   }
  },
  {
   "cell_type": "markdown",
   "source": [
    "### First text analysis"
   ],
   "metadata": {
    "collapsed": false
   }
  },
  {
   "cell_type": "code",
   "execution_count": 248,
   "outputs": [],
   "source": [
    "def get_word_count(text):\n",
    "    word_count = len(text.split())\n",
    "    #print(f\"Word Count: {word_count}\")\n",
    "    return word_count\n",
    "\n",
    "def get_char_count(text):\n",
    "    char_count = len(text)\n",
    "    # print(f\"Character Count: {char_count}\")\n",
    "    return char_count"
   ],
   "metadata": {
    "collapsed": false
   }
  },
  {
   "cell_type": "code",
   "execution_count": 249,
   "outputs": [],
   "source": [
    "df_fomc_press_statements = df_fomc_press_statements.assign(WordCount='', CharCount='')"
   ],
   "metadata": {
    "collapsed": false
   }
  },
  {
   "cell_type": "code",
   "execution_count": 236,
   "outputs": [
    {
     "name": "stdout",
     "output_type": "stream",
     "text": [
      "Index:\t  0\n",
      "Row:\t Filename                                     monetary20230201a\n",
      "Date                                       2023-02-01 00:00:00\n",
      "Text          Recent indicators point to modest growth in s...\n",
      "WordCount                                                     \n",
      "CharCount                                                     \n",
      "Name: 0, dtype: object\n",
      "Index:\t  1\n",
      "Row:\t Filename                                     monetary20230322a\n",
      "Date                                       2023-03-22 00:00:00\n",
      "Text          Recent indicators point to modest growth in s...\n",
      "WordCount                                                     \n",
      "CharCount                                                     \n",
      "Name: 1, dtype: object\n",
      "Index:\t  2\n",
      "Row:\t Filename                                     monetary20230503a\n",
      "Date                                       2023-05-03 00:00:00\n",
      "Text          Economic activity expanded at a modest pace i...\n",
      "WordCount                                                     \n",
      "CharCount                                                     \n",
      "Name: 2, dtype: object\n",
      "Index:\t  3\n",
      "Row:\t Filename                                     monetary20230614a\n",
      "Date                                       2023-06-14 00:00:00\n",
      "Text          Recent indicators suggest that economic activ...\n",
      "WordCount                                                     \n",
      "CharCount                                                     \n",
      "Name: 3, dtype: object\n",
      "Index:\t  4\n",
      "Row:\t Filename                                     monetary20230726a\n",
      "Date                                       2023-07-26 00:00:00\n",
      "Text          Recent indicators suggest that economic activ...\n",
      "WordCount                                                     \n",
      "CharCount                                                     \n",
      "Name: 4, dtype: object\n",
      "Index:\t  5\n",
      "Row:\t Filename                                     monetary20230920a\n",
      "Date                                       2023-09-20 00:00:00\n",
      "Text          Recent indicators suggest that economic activ...\n",
      "WordCount                                                     \n",
      "CharCount                                                     \n",
      "Name: 5, dtype: object\n",
      "Index:\t  6\n",
      "Row:\t Filename                                     monetary20231101a\n",
      "Date                                       2023-11-01 00:00:00\n",
      "Text          Recent indicators suggest that economic activ...\n",
      "WordCount                                                     \n",
      "CharCount                                                     \n",
      "Name: 6, dtype: object\n",
      "Index:\t  7\n",
      "Row:\t Filename                                     monetary20231213a\n",
      "Date                                       2023-12-13 00:00:00\n",
      "Text          Recent indicators suggest that growth of econ...\n",
      "WordCount                                                     \n",
      "CharCount                                                     \n",
      "Name: 7, dtype: object\n",
      "Index:\t  8\n",
      "Row:\t Filename      NaN\n",
      "Date          NaT\n",
      "Text          NaN\n",
      "WordCount     349\n",
      "CharCount    2339\n",
      "Name: 8, dtype: object\n",
      "Index:\t  9\n",
      "Row:\t Filename      NaN\n",
      "Date          NaT\n",
      "Text          NaN\n",
      "WordCount     381\n",
      "CharCount    2541\n",
      "Name: 9, dtype: object\n",
      "Index:\t  10\n",
      "Row:\t Filename      NaN\n",
      "Date          NaT\n",
      "Text          NaN\n",
      "WordCount     347\n",
      "CharCount    2328\n",
      "Name: 10, dtype: object\n",
      "Index:\t  11\n",
      "Row:\t Filename      NaN\n",
      "Date          NaT\n",
      "Text          NaN\n",
      "WordCount     357\n",
      "CharCount    2396\n",
      "Name: 11, dtype: object\n",
      "Index:\t  12\n",
      "Row:\t Filename      NaN\n",
      "Date          NaT\n",
      "Text          NaN\n",
      "WordCount     349\n",
      "CharCount    2353\n",
      "Name: 12, dtype: object\n",
      "Index:\t  13\n",
      "Row:\t Filename      NaN\n",
      "Date          NaT\n",
      "Text          NaN\n",
      "WordCount     354\n",
      "CharCount    2390\n",
      "Name: 13, dtype: object\n",
      "Index:\t  14\n",
      "Row:\t Filename      NaN\n",
      "Date          NaT\n",
      "Text          NaN\n",
      "WordCount     360\n",
      "CharCount    2426\n",
      "Name: 14, dtype: object\n",
      "Index:\t  15\n",
      "Row:\t Filename      NaN\n",
      "Date          NaT\n",
      "Text          NaN\n",
      "WordCount     371\n",
      "CharCount    2480\n",
      "Name: 15, dtype: object\n"
     ]
    }
   ],
   "source": [
    "for index, row in df_fomc_press_statements.iterrows():\n",
    "    print(\"Index:\\t \", index)\n",
    "    print('Row:\\t', row)"
   ],
   "metadata": {
    "collapsed": false
   }
  },
  {
   "cell_type": "code",
   "execution_count": 253,
   "outputs": [
    {
     "name": "stdout",
     "output_type": "stream",
     "text": [
      "<class 'str'>\n",
      "<class 'str'>\n",
      "<class 'str'>\n",
      "<class 'str'>\n",
      "<class 'str'>\n",
      "<class 'str'>\n",
      "<class 'str'>\n",
      "<class 'str'>\n"
     ]
    }
   ],
   "source": [
    "for index, row in df_fomc_press_statements.iterrows():\n",
    "    #text = row['Text'].astype(str)\n",
    "    print(type(row['Text']))\n",
    "    df_fomc_press_statements.at[index, 'WordCount'] = get_word_count(row['Text'])\n",
    "    df_fomc_press_statements.at[index, 'CharCount'] = get_char_count(row['Text'])"
   ],
   "metadata": {
    "collapsed": false
   }
  },
  {
   "cell_type": "code",
   "execution_count": 254,
   "outputs": [
    {
     "data": {
      "text/plain": "                  Date                                               Text  \\\n0  2023-02-01 00:00:00   Recent indicators point to modest growth in s...   \n1  2023-03-22 00:00:00   Recent indicators point to modest growth in s...   \n2  2023-05-03 00:00:00   Economic activity expanded at a modest pace i...   \n3  2023-06-14 00:00:00   Recent indicators suggest that economic activ...   \n4  2023-07-26 00:00:00   Recent indicators suggest that economic activ...   \n5  2023-09-20 00:00:00   Recent indicators suggest that economic activ...   \n6  2023-11-01 00:00:00   Recent indicators suggest that economic activ...   \n7  2023-12-13 00:00:00   Recent indicators suggest that growth of econ...   \n\n            Filename WordCount CharCount  \n0  monetary20230201a       349      2339  \n1  monetary20230322a       381      2541  \n2  monetary20230503a       347      2328  \n3  monetary20230614a       357      2396  \n4  monetary20230726a       349      2353  \n5  monetary20230920a       354      2390  \n6  monetary20231101a       360      2426  \n7  monetary20231213a       371      2480  ",
      "text/html": "<div>\n<style scoped>\n    .dataframe tbody tr th:only-of-type {\n        vertical-align: middle;\n    }\n\n    .dataframe tbody tr th {\n        vertical-align: top;\n    }\n\n    .dataframe thead th {\n        text-align: right;\n    }\n</style>\n<table border=\"1\" class=\"dataframe\">\n  <thead>\n    <tr style=\"text-align: right;\">\n      <th></th>\n      <th>Date</th>\n      <th>Text</th>\n      <th>Filename</th>\n      <th>WordCount</th>\n      <th>CharCount</th>\n    </tr>\n  </thead>\n  <tbody>\n    <tr>\n      <th>0</th>\n      <td>2023-02-01 00:00:00</td>\n      <td>Recent indicators point to modest growth in s...</td>\n      <td>monetary20230201a</td>\n      <td>349</td>\n      <td>2339</td>\n    </tr>\n    <tr>\n      <th>1</th>\n      <td>2023-03-22 00:00:00</td>\n      <td>Recent indicators point to modest growth in s...</td>\n      <td>monetary20230322a</td>\n      <td>381</td>\n      <td>2541</td>\n    </tr>\n    <tr>\n      <th>2</th>\n      <td>2023-05-03 00:00:00</td>\n      <td>Economic activity expanded at a modest pace i...</td>\n      <td>monetary20230503a</td>\n      <td>347</td>\n      <td>2328</td>\n    </tr>\n    <tr>\n      <th>3</th>\n      <td>2023-06-14 00:00:00</td>\n      <td>Recent indicators suggest that economic activ...</td>\n      <td>monetary20230614a</td>\n      <td>357</td>\n      <td>2396</td>\n    </tr>\n    <tr>\n      <th>4</th>\n      <td>2023-07-26 00:00:00</td>\n      <td>Recent indicators suggest that economic activ...</td>\n      <td>monetary20230726a</td>\n      <td>349</td>\n      <td>2353</td>\n    </tr>\n    <tr>\n      <th>5</th>\n      <td>2023-09-20 00:00:00</td>\n      <td>Recent indicators suggest that economic activ...</td>\n      <td>monetary20230920a</td>\n      <td>354</td>\n      <td>2390</td>\n    </tr>\n    <tr>\n      <th>6</th>\n      <td>2023-11-01 00:00:00</td>\n      <td>Recent indicators suggest that economic activ...</td>\n      <td>monetary20231101a</td>\n      <td>360</td>\n      <td>2426</td>\n    </tr>\n    <tr>\n      <th>7</th>\n      <td>2023-12-13 00:00:00</td>\n      <td>Recent indicators suggest that growth of econ...</td>\n      <td>monetary20231213a</td>\n      <td>371</td>\n      <td>2480</td>\n    </tr>\n  </tbody>\n</table>\n</div>"
     },
     "execution_count": 254,
     "metadata": {},
     "output_type": "execute_result"
    }
   ],
   "source": [
    "df_fomc_press_statements"
   ],
   "metadata": {
    "collapsed": false
   }
  },
  {
   "cell_type": "markdown",
   "source": [
    "### Sentiment Analysis"
   ],
   "metadata": {
    "collapsed": false
   }
  },
  {
   "cell_type": "code",
   "execution_count": 68,
   "outputs": [],
   "source": [
    "from tqdm.notebook import tqdm\n",
    "from nltk.sentiment import SentimentIntensityAnalyzer\n",
    "\n",
    "sia = SentimentIntensityAnalyzer()"
   ],
   "metadata": {
    "collapsed": false
   }
  },
  {
   "cell_type": "code",
   "execution_count": 116,
   "outputs": [
    {
     "name": "stdout",
     "output_type": "stream",
     "text": [
      "{'neg': 0.078, 'neu': 0.846, 'pos': 0.076, 'compound': -0.5994}\n",
      "{'neg': 0.047, 'neu': 0.885, 'pos': 0.068, 'compound': 0.765}\n",
      "{'neg': 0.051, 'neu': 0.881, 'pos': 0.068, 'compound': 0.6124}\n",
      "{'neg': 0.05, 'neu': 0.879, 'pos': 0.072, 'compound': 0.743}\n",
      "{'neg': 0.051, 'neu': 0.882, 'pos': 0.067, 'compound': 0.6124}\n",
      "{'neg': 0.062, 'neu': 0.853, 'pos': 0.085, 'compound': 0.775}\n",
      "{'neg': 0.061, 'neu': 0.853, 'pos': 0.086, 'compound': 0.8225}\n",
      "{'neg': 0.059, 'neu': 0.847, 'pos': 0.094, 'compound': 0.9042}\n"
     ]
    },
    {
     "ename": "AttributeError",
     "evalue": "'float' object has no attribute 'encode'",
     "output_type": "error",
     "traceback": [
      "\u001B[0;31m---------------------------------------------------------------------------\u001B[0m",
      "\u001B[0;31mAttributeError\u001B[0m                            Traceback (most recent call last)",
      "Input \u001B[0;32mIn [116]\u001B[0m, in \u001B[0;36m<cell line: 3>\u001B[0;34m()\u001B[0m\n\u001B[1;32m      1\u001B[0m df\n\u001B[1;32m      3\u001B[0m \u001B[38;5;28;01mfor\u001B[39;00m x \u001B[38;5;129;01min\u001B[39;00m df_fomc_press_statements[\u001B[38;5;124m'\u001B[39m\u001B[38;5;124mText\u001B[39m\u001B[38;5;124m'\u001B[39m]:\n\u001B[1;32m      4\u001B[0m     \u001B[38;5;66;03m#print(type(x))\u001B[39;00m\n\u001B[1;32m      5\u001B[0m     \u001B[38;5;66;03m#print(type(sia.polarity_scores(x)))\u001B[39;00m\n\u001B[0;32m----> 6\u001B[0m     \u001B[38;5;28mprint\u001B[39m(\u001B[43msia\u001B[49m\u001B[38;5;241;43m.\u001B[39;49m\u001B[43mpolarity_scores\u001B[49m\u001B[43m(\u001B[49m\u001B[43mx\u001B[49m\u001B[43m)\u001B[49m)\n",
      "File \u001B[0;32m~/opt/anaconda3/lib/python3.9/site-packages/nltk/sentiment/vader.py:361\u001B[0m, in \u001B[0;36mSentimentIntensityAnalyzer.polarity_scores\u001B[0;34m(self, text)\u001B[0m\n\u001B[1;32m    355\u001B[0m \u001B[38;5;124;03m\"\"\"\u001B[39;00m\n\u001B[1;32m    356\u001B[0m \u001B[38;5;124;03mReturn a float for sentiment strength based on the input text.\u001B[39;00m\n\u001B[1;32m    357\u001B[0m \u001B[38;5;124;03mPositive values are positive valence, negative value are negative\u001B[39;00m\n\u001B[1;32m    358\u001B[0m \u001B[38;5;124;03mvalence.\u001B[39;00m\n\u001B[1;32m    359\u001B[0m \u001B[38;5;124;03m\"\"\"\u001B[39;00m\n\u001B[1;32m    360\u001B[0m \u001B[38;5;66;03m# text, words_and_emoticons, is_cap_diff = self.preprocess(text)\u001B[39;00m\n\u001B[0;32m--> 361\u001B[0m sentitext \u001B[38;5;241m=\u001B[39m \u001B[43mSentiText\u001B[49m\u001B[43m(\u001B[49m\n\u001B[1;32m    362\u001B[0m \u001B[43m    \u001B[49m\u001B[43mtext\u001B[49m\u001B[43m,\u001B[49m\u001B[43m \u001B[49m\u001B[38;5;28;43mself\u001B[39;49m\u001B[38;5;241;43m.\u001B[39;49m\u001B[43mconstants\u001B[49m\u001B[38;5;241;43m.\u001B[39;49m\u001B[43mPUNC_LIST\u001B[49m\u001B[43m,\u001B[49m\u001B[43m \u001B[49m\u001B[38;5;28;43mself\u001B[39;49m\u001B[38;5;241;43m.\u001B[39;49m\u001B[43mconstants\u001B[49m\u001B[38;5;241;43m.\u001B[39;49m\u001B[43mREGEX_REMOVE_PUNCTUATION\u001B[49m\n\u001B[1;32m    363\u001B[0m \u001B[43m\u001B[49m\u001B[43m)\u001B[49m\n\u001B[1;32m    364\u001B[0m sentiments \u001B[38;5;241m=\u001B[39m []\n\u001B[1;32m    365\u001B[0m words_and_emoticons \u001B[38;5;241m=\u001B[39m sentitext\u001B[38;5;241m.\u001B[39mwords_and_emoticons\n",
      "File \u001B[0;32m~/opt/anaconda3/lib/python3.9/site-packages/nltk/sentiment/vader.py:270\u001B[0m, in \u001B[0;36mSentiText.__init__\u001B[0;34m(self, text, punc_list, regex_remove_punctuation)\u001B[0m\n\u001B[1;32m    268\u001B[0m \u001B[38;5;28;01mdef\u001B[39;00m \u001B[38;5;21m__init__\u001B[39m(\u001B[38;5;28mself\u001B[39m, text, punc_list, regex_remove_punctuation):\n\u001B[1;32m    269\u001B[0m     \u001B[38;5;28;01mif\u001B[39;00m \u001B[38;5;129;01mnot\u001B[39;00m \u001B[38;5;28misinstance\u001B[39m(text, \u001B[38;5;28mstr\u001B[39m):\n\u001B[0;32m--> 270\u001B[0m         text \u001B[38;5;241m=\u001B[39m \u001B[38;5;28mstr\u001B[39m(\u001B[43mtext\u001B[49m\u001B[38;5;241;43m.\u001B[39;49m\u001B[43mencode\u001B[49m(\u001B[38;5;124m\"\u001B[39m\u001B[38;5;124mutf-8\u001B[39m\u001B[38;5;124m\"\u001B[39m))\n\u001B[1;32m    271\u001B[0m     \u001B[38;5;28mself\u001B[39m\u001B[38;5;241m.\u001B[39mtext \u001B[38;5;241m=\u001B[39m text\n\u001B[1;32m    272\u001B[0m     \u001B[38;5;28mself\u001B[39m\u001B[38;5;241m.\u001B[39mPUNC_LIST \u001B[38;5;241m=\u001B[39m punc_list\n",
      "\u001B[0;31mAttributeError\u001B[0m: 'float' object has no attribute 'encode'"
     ]
    }
   ],
   "source": [
    "df\n",
    "\n",
    "for x in df_fomc_press_statements['Text']:\n",
    "    #print(type(x))\n",
    "    #print(type(sia.polarity_scores(x)))\n",
    "    print(sia.polarity_scores(x))"
   ],
   "metadata": {
    "collapsed": false
   }
  },
  {
   "cell_type": "code",
   "execution_count": 117,
   "outputs": [
    {
     "ename": "AttributeError",
     "evalue": "'float' object has no attribute 'encode'",
     "output_type": "error",
     "traceback": [
      "\u001B[0;31m---------------------------------------------------------------------------\u001B[0m",
      "\u001B[0;31mAttributeError\u001B[0m                            Traceback (most recent call last)",
      "Input \u001B[0;32mIn [117]\u001B[0m, in \u001B[0;36m<cell line: 8>\u001B[0;34m()\u001B[0m\n\u001B[1;32m      8\u001B[0m \u001B[38;5;28;01mfor\u001B[39;00m index, row \u001B[38;5;129;01min\u001B[39;00m df_fomc_press_statements\u001B[38;5;241m.\u001B[39miterrows():\n\u001B[1;32m      9\u001B[0m     text \u001B[38;5;241m=\u001B[39m row[\u001B[38;5;124m'\u001B[39m\u001B[38;5;124mText\u001B[39m\u001B[38;5;124m'\u001B[39m]\n\u001B[0;32m---> 10\u001B[0m     scores \u001B[38;5;241m=\u001B[39m \u001B[43msia\u001B[49m\u001B[38;5;241;43m.\u001B[39;49m\u001B[43mpolarity_scores\u001B[49m\u001B[43m(\u001B[49m\u001B[43mtext\u001B[49m\u001B[43m)\u001B[49m\n\u001B[1;32m     12\u001B[0m     \u001B[38;5;66;03m# Update the corresponding row with sentiment scores\u001B[39;00m\n\u001B[1;32m     13\u001B[0m     df_fomc_press_statements\u001B[38;5;241m.\u001B[39mat[index, \u001B[38;5;124m'\u001B[39m\u001B[38;5;124mcompound\u001B[39m\u001B[38;5;124m'\u001B[39m] \u001B[38;5;241m=\u001B[39m scores[\u001B[38;5;124m'\u001B[39m\u001B[38;5;124mcompound\u001B[39m\u001B[38;5;124m'\u001B[39m]\n",
      "File \u001B[0;32m~/opt/anaconda3/lib/python3.9/site-packages/nltk/sentiment/vader.py:361\u001B[0m, in \u001B[0;36mSentimentIntensityAnalyzer.polarity_scores\u001B[0;34m(self, text)\u001B[0m\n\u001B[1;32m    355\u001B[0m \u001B[38;5;124;03m\"\"\"\u001B[39;00m\n\u001B[1;32m    356\u001B[0m \u001B[38;5;124;03mReturn a float for sentiment strength based on the input text.\u001B[39;00m\n\u001B[1;32m    357\u001B[0m \u001B[38;5;124;03mPositive values are positive valence, negative value are negative\u001B[39;00m\n\u001B[1;32m    358\u001B[0m \u001B[38;5;124;03mvalence.\u001B[39;00m\n\u001B[1;32m    359\u001B[0m \u001B[38;5;124;03m\"\"\"\u001B[39;00m\n\u001B[1;32m    360\u001B[0m \u001B[38;5;66;03m# text, words_and_emoticons, is_cap_diff = self.preprocess(text)\u001B[39;00m\n\u001B[0;32m--> 361\u001B[0m sentitext \u001B[38;5;241m=\u001B[39m \u001B[43mSentiText\u001B[49m\u001B[43m(\u001B[49m\n\u001B[1;32m    362\u001B[0m \u001B[43m    \u001B[49m\u001B[43mtext\u001B[49m\u001B[43m,\u001B[49m\u001B[43m \u001B[49m\u001B[38;5;28;43mself\u001B[39;49m\u001B[38;5;241;43m.\u001B[39;49m\u001B[43mconstants\u001B[49m\u001B[38;5;241;43m.\u001B[39;49m\u001B[43mPUNC_LIST\u001B[49m\u001B[43m,\u001B[49m\u001B[43m \u001B[49m\u001B[38;5;28;43mself\u001B[39;49m\u001B[38;5;241;43m.\u001B[39;49m\u001B[43mconstants\u001B[49m\u001B[38;5;241;43m.\u001B[39;49m\u001B[43mREGEX_REMOVE_PUNCTUATION\u001B[49m\n\u001B[1;32m    363\u001B[0m \u001B[43m\u001B[49m\u001B[43m)\u001B[49m\n\u001B[1;32m    364\u001B[0m sentiments \u001B[38;5;241m=\u001B[39m []\n\u001B[1;32m    365\u001B[0m words_and_emoticons \u001B[38;5;241m=\u001B[39m sentitext\u001B[38;5;241m.\u001B[39mwords_and_emoticons\n",
      "File \u001B[0;32m~/opt/anaconda3/lib/python3.9/site-packages/nltk/sentiment/vader.py:270\u001B[0m, in \u001B[0;36mSentiText.__init__\u001B[0;34m(self, text, punc_list, regex_remove_punctuation)\u001B[0m\n\u001B[1;32m    268\u001B[0m \u001B[38;5;28;01mdef\u001B[39;00m \u001B[38;5;21m__init__\u001B[39m(\u001B[38;5;28mself\u001B[39m, text, punc_list, regex_remove_punctuation):\n\u001B[1;32m    269\u001B[0m     \u001B[38;5;28;01mif\u001B[39;00m \u001B[38;5;129;01mnot\u001B[39;00m \u001B[38;5;28misinstance\u001B[39m(text, \u001B[38;5;28mstr\u001B[39m):\n\u001B[0;32m--> 270\u001B[0m         text \u001B[38;5;241m=\u001B[39m \u001B[38;5;28mstr\u001B[39m(\u001B[43mtext\u001B[49m\u001B[38;5;241;43m.\u001B[39;49m\u001B[43mencode\u001B[49m(\u001B[38;5;124m\"\u001B[39m\u001B[38;5;124mutf-8\u001B[39m\u001B[38;5;124m\"\u001B[39m))\n\u001B[1;32m    271\u001B[0m     \u001B[38;5;28mself\u001B[39m\u001B[38;5;241m.\u001B[39mtext \u001B[38;5;241m=\u001B[39m text\n\u001B[1;32m    272\u001B[0m     \u001B[38;5;28mself\u001B[39m\u001B[38;5;241m.\u001B[39mPUNC_LIST \u001B[38;5;241m=\u001B[39m punc_list\n",
      "\u001B[0;31mAttributeError\u001B[0m: 'float' object has no attribute 'encode'"
     ]
    }
   ],
   "source": [
    "# Create columns for sentiment scores\n",
    "df_fomc_press_statements['compound'] = 0.0\n",
    "df_fomc_press_statements['neg'] = 0.0\n",
    "df_fomc_press_statements['neu'] = 0.0\n",
    "df_fomc_press_statements['pos'] = 0.0\n",
    "\n",
    "# Iterate through rows and calculate sentiment scores\n",
    "for index, row in df_fomc_press_statements.iterrows():\n",
    "    text = row['Text']\n",
    "    scores = sia.polarity_scores(text)\n",
    "\n",
    "    # Update the corresponding row with sentiment scores\n",
    "    df_fomc_press_statements.at[index, 'compound'] = scores['compound']\n",
    "    df_fomc_press_statements.at[index, 'neg'] = scores['neg']\n",
    "    df_fomc_press_statements.at[index, 'neu'] = scores['neu']\n",
    "    df_fomc_press_statements.at[index, 'pos'] = scores['pos']"
   ],
   "metadata": {
    "collapsed": false
   }
  },
  {
   "cell_type": "code",
   "execution_count": 122,
   "outputs": [
    {
     "data": {
      "text/plain": "         Date                                               Text  \\\n0  01.02.2023   Recent indicators point to modest growth in s...   \n1  22.03.2023   Recent indicators point to modest growth in s...   \n2  03.05.2023   Economic activity expanded at a modest pace i...   \n3  14.06.2023   Recent indicators suggest that economic activ...   \n4  26.07.2023   Recent indicators suggest that economic activ...   \n5  20.09.2023   Recent indicators suggest that economic activ...   \n6  01.11.2023   Recent indicators suggest that economic activ...   \n7  13.12.2023   Recent indicators suggest that growth of econ...   \n\n            Filename  CharCount  WordCount  compound  \n0  monetary20230201a        NaN        NaN   -0.5994  \n1  monetary20230322a        NaN        NaN    0.7650  \n2  monetary20230503a        NaN        NaN    0.6124  \n3  monetary20230614a        NaN        NaN    0.7430  \n4  monetary20230726a        NaN        NaN    0.6124  \n5  monetary20230920a        NaN        NaN    0.7750  \n6  monetary20231101a        NaN        NaN    0.8225  \n7  monetary20231213a        NaN        NaN    0.9042  ",
      "text/html": "<div>\n<style scoped>\n    .dataframe tbody tr th:only-of-type {\n        vertical-align: middle;\n    }\n\n    .dataframe tbody tr th {\n        vertical-align: top;\n    }\n\n    .dataframe thead th {\n        text-align: right;\n    }\n</style>\n<table border=\"1\" class=\"dataframe\">\n  <thead>\n    <tr style=\"text-align: right;\">\n      <th></th>\n      <th>Date</th>\n      <th>Text</th>\n      <th>Filename</th>\n      <th>CharCount</th>\n      <th>WordCount</th>\n      <th>compound</th>\n    </tr>\n  </thead>\n  <tbody>\n    <tr>\n      <th>0</th>\n      <td>01.02.2023</td>\n      <td>Recent indicators point to modest growth in s...</td>\n      <td>monetary20230201a</td>\n      <td>NaN</td>\n      <td>NaN</td>\n      <td>-0.5994</td>\n    </tr>\n    <tr>\n      <th>1</th>\n      <td>22.03.2023</td>\n      <td>Recent indicators point to modest growth in s...</td>\n      <td>monetary20230322a</td>\n      <td>NaN</td>\n      <td>NaN</td>\n      <td>0.7650</td>\n    </tr>\n    <tr>\n      <th>2</th>\n      <td>03.05.2023</td>\n      <td>Economic activity expanded at a modest pace i...</td>\n      <td>monetary20230503a</td>\n      <td>NaN</td>\n      <td>NaN</td>\n      <td>0.6124</td>\n    </tr>\n    <tr>\n      <th>3</th>\n      <td>14.06.2023</td>\n      <td>Recent indicators suggest that economic activ...</td>\n      <td>monetary20230614a</td>\n      <td>NaN</td>\n      <td>NaN</td>\n      <td>0.7430</td>\n    </tr>\n    <tr>\n      <th>4</th>\n      <td>26.07.2023</td>\n      <td>Recent indicators suggest that economic activ...</td>\n      <td>monetary20230726a</td>\n      <td>NaN</td>\n      <td>NaN</td>\n      <td>0.6124</td>\n    </tr>\n    <tr>\n      <th>5</th>\n      <td>20.09.2023</td>\n      <td>Recent indicators suggest that economic activ...</td>\n      <td>monetary20230920a</td>\n      <td>NaN</td>\n      <td>NaN</td>\n      <td>0.7750</td>\n    </tr>\n    <tr>\n      <th>6</th>\n      <td>01.11.2023</td>\n      <td>Recent indicators suggest that economic activ...</td>\n      <td>monetary20231101a</td>\n      <td>NaN</td>\n      <td>NaN</td>\n      <td>0.8225</td>\n    </tr>\n    <tr>\n      <th>7</th>\n      <td>13.12.2023</td>\n      <td>Recent indicators suggest that growth of econ...</td>\n      <td>monetary20231213a</td>\n      <td>NaN</td>\n      <td>NaN</td>\n      <td>0.9042</td>\n    </tr>\n  </tbody>\n</table>\n</div>"
     },
     "execution_count": 122,
     "metadata": {},
     "output_type": "execute_result"
    }
   ],
   "source": [
    "df_fomc_press_statements = df_fomc_press_statements.head(8)\n",
    "df_fomc_press_statements"
   ],
   "metadata": {
    "collapsed": false
   }
  },
  {
   "cell_type": "code",
   "execution_count": 123,
   "outputs": [
    {
     "data": {
      "text/plain": "<Figure size 720x432 with 1 Axes>",
      "image/png": "[encoded data removed]"
     },
     "metadata": {
      "needs_background": "light"
     },
     "output_type": "display_data"
    }
   ],
   "source": [
    "plt.figure(figsize=(10, 6))\n",
    "plt.plot(df_fomc_press_statements['Date'], df_fomc_press_statements['compound'], marker='o', linestyle='-', color='b')\n",
    "\n",
    "# Adding labels and title\n",
    "plt.title('Value Over Time')\n",
    "plt.xlabel('Date')\n",
    "plt.ylabel('compund')\n",
    "\n",
    "# Rotating x-axis labels for better readability\n",
    "plt.xticks(rotation=45, ha='right')\n",
    "\n",
    "# Display the plot\n",
    "plt.show()"
   ],
   "metadata": {
    "collapsed": false
   }
  },
  {
   "cell_type": "markdown",
   "source": [
    "#### Roberta\n",
    "ToDo: Add additional models for sentiment analyis (Roberta, Loughran-McDonald Master Dictionary w/ Sentiment Word Lists) https://sraf.nd.edu/loughranmcdonald-master-dictionary/"
   ],
   "metadata": {
    "collapsed": false
   }
  },
  {
   "cell_type": "code",
   "execution_count": 91,
   "outputs": [],
   "source": [
    "# ToDo: Add additional models for sentiment analyis"
   ],
   "metadata": {
    "collapsed": false
   }
  },
  {
   "cell_type": "code",
   "execution_count": null,
   "outputs": [],
   "source": [],
   "metadata": {
    "collapsed": false
   }
  },
  {
   "cell_type": "code",
   "execution_count": null,
   "outputs": [],
   "source": [],
   "metadata": {
    "collapsed": false
   }
  },
  {
   "cell_type": "markdown",
   "source": [
    "### Comparing sentiment analysis with inflation rate development"
   ],
   "metadata": {
    "collapsed": false
   }
  },
  {
   "cell_type": "code",
   "execution_count": 125,
   "outputs": [
    {
     "data": {
      "text/plain": "<Figure size 720x432 with 1 Axes>",
      "image/png": "[encoded data removed]"
     },
     "metadata": {
      "needs_background": "light"
     },
     "output_type": "display_data"
    }
   ],
   "source": [
    "import matplotlib.pyplot as plt\n",
    "\n",
    "# Extract relevant columns for plotting\n",
    "months = df_us_inf.columns[1:-1]  # Exclude the 'Year' and 'Ave' columns\n",
    "years = df_us_inf['Year'].head(1)\n",
    "inflation_data = df_us_inf.iloc[:5, 1:-1].astype(float)  # Exclude the 'Year' and 'Ave' columns\n",
    "\n",
    "# Plot the evolution of inflation rates\n",
    "plt.figure(figsize=(10, 6))\n",
    "\n",
    "for year in years:\n",
    "    plt.plot(months, inflation_data.loc[df_us_inf['Year'] == year].values.flatten(), label=str(year))\n",
    "\n",
    "plt.title('US Inflation Rate Evolution for 2019 to 2023')\n",
    "plt.xlabel('Month')\n",
    "plt.ylabel('Inflation Rate')\n",
    "plt.legend(title='Year', loc='upper left', bbox_to_anchor=(1, 1))\n",
    "\n",
    "plt.show()"
   ],
   "metadata": {
    "collapsed": false
   }
  },
  {
   "cell_type": "markdown",
   "source": [
    "Transform dataframe into a series with dates. We use the 15th of each month."
   ],
   "metadata": {
    "collapsed": false
   }
  },
  {
   "cell_type": "code",
   "execution_count": 185,
   "outputs": [
    {
     "data": {
      "text/plain": "    InflationRate       Date\nJan           6.4 2023-01-15\nFeb           6.0 2023-02-15\nMar           5.0 2023-03-15\nApr           4.9 2023-04-15\nMay           4.0 2023-05-15\nJun           3.0 2023-06-15\nJul           3.2 2023-07-15\nAug           3.7 2023-08-15\nSep           3.7 2023-09-15\nOct           3.2 2023-10-15\nNov           3.1 2023-11-15\nDec           3.4 2023-12-15",
      "text/html": "<div>\n<style scoped>\n    .dataframe tbody tr th:only-of-type {\n        vertical-align: middle;\n    }\n\n    .dataframe tbody tr th {\n        vertical-align: top;\n    }\n\n    .dataframe thead th {\n        text-align: right;\n    }\n</style>\n<table border=\"1\" class=\"dataframe\">\n  <thead>\n    <tr style=\"text-align: right;\">\n      <th></th>\n      <th>InflationRate</th>\n      <th>Date</th>\n    </tr>\n  </thead>\n  <tbody>\n    <tr>\n      <th>Jan</th>\n      <td>6.4</td>\n      <td>2023-01-15</td>\n    </tr>\n    <tr>\n      <th>Feb</th>\n      <td>6.0</td>\n      <td>2023-02-15</td>\n    </tr>\n    <tr>\n      <th>Mar</th>\n      <td>5.0</td>\n      <td>2023-03-15</td>\n    </tr>\n    <tr>\n      <th>Apr</th>\n      <td>4.9</td>\n      <td>2023-04-15</td>\n    </tr>\n    <tr>\n      <th>May</th>\n      <td>4.0</td>\n      <td>2023-05-15</td>\n    </tr>\n    <tr>\n      <th>Jun</th>\n      <td>3.0</td>\n      <td>2023-06-15</td>\n    </tr>\n    <tr>\n      <th>Jul</th>\n      <td>3.2</td>\n      <td>2023-07-15</td>\n    </tr>\n    <tr>\n      <th>Aug</th>\n      <td>3.7</td>\n      <td>2023-08-15</td>\n    </tr>\n    <tr>\n      <th>Sep</th>\n      <td>3.7</td>\n      <td>2023-09-15</td>\n    </tr>\n    <tr>\n      <th>Oct</th>\n      <td>3.2</td>\n      <td>2023-10-15</td>\n    </tr>\n    <tr>\n      <th>Nov</th>\n      <td>3.1</td>\n      <td>2023-11-15</td>\n    </tr>\n    <tr>\n      <th>Dec</th>\n      <td>3.4</td>\n      <td>2023-12-15</td>\n    </tr>\n  </tbody>\n</table>\n</div>"
     },
     "execution_count": 185,
     "metadata": {},
     "output_type": "execute_result"
    }
   ],
   "source": [
    "# Transpose df and add dates to it to prepare the plotting\n",
    "df_us_inf_transposed = df_us_inf.transpose()\n",
    "df_us_inf_transposed.drop(df_us_inf_transposed.tail(1).index,inplace=True) # drop last n rows\n",
    "new_header = df_us_inf_transposed.iloc[0] #grab the first row for the header\n",
    "df_us_inf_transposed = df_us_inf_transposed[1:] #take the data less the header row\n",
    "df_us_inf_transposed.columns = new_header #set the header row as the df header\n",
    "melted_df = pd.melt(df_us_inf_transposed, var_name='Year', value_name='InflationRate', ignore_index=False)\n",
    "melted_df['Month'] = melted_df.index\n",
    "month_mapping = {'Jan': 1, 'Feb': 2, 'Mar': 3, 'Apr': 4, 'May': 5, 'Jun': 6, 'Jul': 7, 'Aug': 8, 'Sep': 9, 'Oct': 10, 'Nov': 11, 'Dec': 12}\n",
    "melted_df['MonthNumber'] = melted_df['Month'].map(month_mapping)\n",
    "melted_df['Date'] = pd.to_datetime(melted_df['MonthNumber'].astype(str) + '-15-' + melted_df['Year'].astype(str), format='%m-%d-%Y')\n",
    "df_us_inf_transposed = melted_df.drop(['MonthNumber', 'Month', 'Year'], axis=1)\n",
    "df_us_inf_transposed.head(12)"
   ],
   "metadata": {
    "collapsed": false
   }
  },
  {
   "cell_type": "code",
   "execution_count": null,
   "outputs": [],
   "source": [],
   "metadata": {
    "collapsed": false
   }
  },
  {
   "cell_type": "code",
   "execution_count": 208,
   "outputs": [
    {
     "name": "stderr",
     "output_type": "stream",
     "text": [
      "/var/folders/n_/mj2qn5sd20lb04k5gcvn8fbr0000gn/T/ipykernel_2950/2826197720.py:1: SettingWithCopyWarning: \n",
      "A value is trying to be set on a copy of a slice from a DataFrame.\n",
      "Try using .loc[row_indexer,col_indexer] = value instead\n",
      "\n",
      "See the caveats in the documentation: https://pandas.pydata.org/pandas-docs/stable/user_guide/indexing.html#returning-a-view-versus-a-copy\n",
      "  df_fomc_press_statements['Date'] = pd.to_datetime(df_fomc_press_statements['Date'], format='%d.%m.%Y')\n"
     ]
    }
   ],
   "source": [
    "df_fomc_press_statements['Date'] = pd.to_datetime(df_fomc_press_statements['Date'], format='%d.%m.%Y')"
   ],
   "metadata": {
    "collapsed": false
   }
  },
  {
   "cell_type": "code",
   "execution_count": 203,
   "outputs": [
    {
     "name": "stdout",
     "output_type": "stream",
     "text": [
      "<class 'str'>\n",
      "<class 'pandas._libs.tslibs.timestamps.Timestamp'>\n",
      "<class 'pandas._libs.tslibs.timestamps.Timestamp'>\n"
     ]
    }
   ],
   "source": [
    "print(type(df_fomc_press_statements['Date'][1]))\n",
    "print(type(df_fomc_press_statements['Date_format'][1]))\n",
    "print(type(df_us_inf_transposed['Date'][1]))"
   ],
   "metadata": {
    "collapsed": false
   }
  },
  {
   "cell_type": "code",
   "execution_count": 207,
   "outputs": [
    {
     "data": {
      "text/plain": "<Figure size 720x288 with 2 Axes>",
      "image/png": "[encoded data removed]"
     },
     "metadata": {
      "needs_background": "light"
     },
     "output_type": "display_data"
    }
   ],
   "source": [
    "# Create a plot with two y-axes\n",
    "fig, ax1 = plt.subplots(figsize=(10, 4))\n",
    "\n",
    "# Plot the Inflation Rate on the first y-axis\n",
    "ax1.plot(df_us_inf_transposed.head(12)['Date'], df_us_inf_transposed.head(12)['InflationRate'].astype(float), color='blue', label='Inflation Rate')\n",
    "ax1.set_xlabel('Date')\n",
    "ax1.set_ylabel('Inflation Rate', color='blue')\n",
    "ax1.tick_params('y', colors='blue')\n",
    "\n",
    "# Create a second y-axis for Sentiment Score\n",
    "ax2 = ax1.twinx()\n",
    "ax2.plot(df_fomc_press_statements['Date_format'], df_fomc_press_statements['compound'].astype(float), color='green', label='Sentiment Score')\n",
    "ax2.set_ylabel('Sentiment Score', color='green')\n",
    "ax2.tick_params('y', colors='green')\n",
    "\n",
    "# Display the legend\n",
    "fig.tight_layout()\n",
    "plt.legend(loc='upper left')\n",
    "plt.title('Inflation Rate and Sentiment Score for 2023')\n",
    "\n",
    "# Show the plot\n",
    "plt.show()"
   ],
   "metadata": {
    "collapsed": false
   }
  },
  {
   "cell_type": "code",
   "execution_count": null,
   "outputs": [],
   "source": [],
   "metadata": {
    "collapsed": false
   }
  },
  {
   "cell_type": "code",
   "execution_count": null,
   "outputs": [],
   "source": [],
   "metadata": {
    "collapsed": false
   }
  },
  {
   "cell_type": "code",
   "execution_count": null,
   "outputs": [],
   "source": [],
   "metadata": {
    "collapsed": false
   }
  },
  {
   "cell_type": "code",
   "execution_count": null,
   "outputs": [],
   "source": [],
   "metadata": {
    "collapsed": false
   }
  },
  {
   "cell_type": "code",
   "execution_count": null,
   "outputs": [],
   "source": [],
   "metadata": {
    "collapsed": false
   }
  },
  {
   "cell_type": "code",
   "execution_count": null,
   "outputs": [],
   "source": [],
   "metadata": {
    "collapsed": false
   }
  },
  {
   "cell_type": "code",
   "execution_count": null,
   "outputs": [],
   "source": [],
   "metadata": {
    "collapsed": false
   }
  },
  {
   "cell_type": "code",
   "execution_count": null,
   "outputs": [],
   "source": [],
   "metadata": {
    "collapsed": false
   }
  },
  {
   "cell_type": "code",
   "execution_count": null,
   "outputs": [],
   "source": [],
   "metadata": {
    "collapsed": false
   }
  },
  {
   "cell_type": "markdown",
   "source": [
    "### Helper Functions"
   ],
   "metadata": {
    "collapsed": false
   }
  },
  {
   "cell_type": "code",
   "execution_count": 223,
   "outputs": [],
   "source": [
    "def line( df,sort=True,figsize=(8, 5),ax=None,title=\"\",cumsum=False,loc=\"center left\",bbox_to_anchor=(1, 0.5),legend_sharpe_ratio=None,legend=True,yscale=None,start_date=None,\n",
    "          ):\n",
    "    df = df.copy()\n",
    "    if loc == \"best\":\n",
    "        bbox_to_anchor = None\n",
    "    if isinstance(df, dict) | isinstance(df, list):\n",
    "        df = pd.concat(df, axis=1)\n",
    "    if isinstance(df, pd.Series):\n",
    "        df = df.to_frame()\n",
    "    if start_date is not None:\n",
    "        df = df[start_date:]\n",
    "    if cumsum & (legend_sharpe_ratio is None):\n",
    "        legend_sharpe_ratio = True\n",
    "    if legend_sharpe_ratio:\n",
    "        df.columns = [f\"{c}: sr={sharpe_ratio(df[c]): 3.2f}\" for c in df.columns]\n",
    "    if cumsum:\n",
    "        df = df.cumsum()\n",
    "    if sort:\n",
    "        df = df.loc[:, lambda x: x.iloc[-1].sort_values(ascending=False).index]\n",
    "    fig, ax = set_axis(ax=ax, figsize=figsize, title=title)\n",
    "    ax.plot(df.index, df.values)\n",
    "    if legend:\n",
    "        ax.legend(df.columns, loc=loc, bbox_to_anchor=bbox_to_anchor)\n",
    "    if yscale == \"log\":\n",
    "        ax.set_yscale(\"log\")"
   ],
   "metadata": {
    "collapsed": false
   }
  }
 ],
 "metadata": {
  "kernelspec": {
   "display_name": "Python 3",
   "language": "python",
   "name": "python3"
  },
  "language_info": {
   "codemirror_mode": {
    "name": "ipython",
    "version": 2
   },
   "file_extension": ".py",
   "mimetype": "text/x-python",
   "name": "python",
   "nbconvert_exporter": "python",
   "pygments_lexer": "ipython2",
   "version": "2.7.6"
  }
 },
 "nbformat": 4,
 "nbformat_minor": 0
}

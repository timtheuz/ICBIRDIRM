{
 "cells": [
  {
   "cell_type": "markdown",
   "source": [
    "# Impact of central bank interest rate decisions on inflation rates and markets\n",
    "Project by: *Timo Gumpp*\n",
    "Course: *Machine Learning for Portfolio Trading*\n",
    "University: *ENSAE Paris*"
   ],
   "metadata": {
    "collapsed": false
   }
  },
  {
   "cell_type": "markdown",
   "source": [
    "## Objective of this project\n",
    "\n",
    "1. Observe how accompanying press statements regarding decisions of interest rate changes differ (length, sentiment, sophistication, etc.)\n",
    "2. Observe correlation of different press releases characteristics on the result of the interest change hike\n",
    "3. Observe impact of characteristics of interest rate announcements (length, sentiment, sophistication, etc.) on inflation development\n",
    "4. (Optionally, out of interest): Observe potential impact of characteristics of interest rate announcements (length, sentiment, sophistication, etc.) on capital markets (e.g., using the example of S&P 500 index)"
   ],
   "metadata": {
    "collapsed": false
   }
  },
  {
   "cell_type": "markdown",
   "source": [
    "### Loading Packages"
   ],
   "metadata": {
    "collapsed": false
   }
  },
  {
   "cell_type": "code",
   "execution_count": 44,
   "outputs": [],
   "source": [
    "import pandas as pd\n",
    "import matplotlib\n",
    "import nltk\n",
    "#import spacy\n",
    "from IPython.display import IFrame\n",
    "import os\n",
    "from bs4 import BeautifulSoup\n",
    "import requests\n",
    "from datetime import datetime"
   ],
   "metadata": {
    "collapsed": false
   }
  },
  {
   "cell_type": "markdown",
   "source": [
    "### Load in text"
   ],
   "metadata": {
    "collapsed": false
   }
  },
  {
   "cell_type": "markdown",
   "source": [
    "#### What to look at\n",
    "\n",
    "I limit the project on the ECB and the FED, thus looking into inflation in the Eurozone and the US respectively.\n",
    "\n",
    "***\n",
    "- The ECB's council takes interest rate decisions x times a year and each time releases press statements.\n",
    "- The Federal Open Market Commitee (FOMC – the FED's council on moneytary policy decisions) holds regularly scheduled meetings 8 times a year and other meetings as needed. Each time a press statement is released. Every second meeting, this seems to be accompanied by a summary of economic projections.\n",
    "\n",
    "The released statements include xx\n",
    "\n",
    "An **example for a press statement** from both the ECB and the FED can be viewed here and accessed under the these links: __[ECB_Dec23](https://www.ecb.europa.eu/press/pressconf/shared/pdf/ecb.ds231214~cbcff0882a.en.pdf)__ or __[FOMC_Dec23](https://www.federalreserve.gov/monetarypolicy/files/monetary20231213a1.pdf)__"
   ],
   "metadata": {
    "collapsed": false
   }
  },
  {
   "cell_type": "markdown",
   "source": [],
   "metadata": {
    "collapsed": false
   }
  },
  {
   "cell_type": "code",
   "execution_count": 8,
   "outputs": [
    {
     "data": {
      "text/plain": "'/Users/tgumpp/DataspellProjects/ICBIRDIRM'"
     },
     "execution_count": 8,
     "metadata": {},
     "output_type": "execute_result"
    }
   ],
   "source": [
    "os.getcwd()"
   ],
   "metadata": {
    "collapsed": false
   }
  },
  {
   "cell_type": "code",
   "execution_count": 12,
   "outputs": [],
   "source": [
    "filepath_exp_ecb = \"./Documents/ECB/ecb231214.pdf\""
   ],
   "metadata": {
    "collapsed": false
   }
  },
  {
   "cell_type": "code",
   "execution_count": 13,
   "outputs": [
    {
     "data": {
      "text/plain": "<IPython.lib.display.IFrame at 0x7fa578c4d580>",
      "text/html": "\n        <iframe\n            width=\"600\"\n            height=\"300\"\n            src=\"./Documents/ECB/ecb231214.pdf\"\n            frameborder=\"0\"\n            allowfullscreen\n            \n        ></iframe>\n        "
     },
     "execution_count": 13,
     "metadata": {},
     "output_type": "execute_result"
    }
   ],
   "source": [
    "IFrame(filepath_exp_ecb, width=600, height=300)"
   ],
   "metadata": {
    "collapsed": false
   }
  },
  {
   "cell_type": "markdown",
   "source": [
    "We primarily focus on the developments from 2022 to 2023, and will potentally look into developments in 2020 and 2021. The year 2024 is left out of our analysis.\n",
    "The also release minutes, which we're not using in our analysis"
   ],
   "metadata": {
    "collapsed": false
   }
  },
  {
   "cell_type": "code",
   "execution_count": null,
   "outputs": [],
   "source": [],
   "metadata": {
    "collapsed": false
   }
  },
  {
   "cell_type": "markdown",
   "source": [
    "The FOMC's press releases compose themselves of a press statement and an implementation note, highlighting which monetary measures are being taken."
   ],
   "metadata": {
    "collapsed": false
   }
  },
  {
   "cell_type": "code",
   "execution_count": null,
   "outputs": [],
   "source": [],
   "metadata": {
    "collapsed": false
   }
  },
  {
   "cell_type": "code",
   "execution_count": 3,
   "outputs": [],
   "source": [
    "text_test = \"Recent indicators suggest that growth of economic activity has slowed from its strong pace in the third quarter. Job gains have moderated since earlier in the year but remain strong, and the unemployment rate has remained low. Inflation has eased over the past year but remains elevated. The U.S. banking system is sound and resilient. Tighter financial and credit conditions for households and businesses are likely to weigh on economic activity, hiring, and inflation. The extent of these effects remains uncertain. The Committee remains highly attentive to inflation risks. The Committee seeks to achieve maximum employment and inflation at the rate of 2 percent over the longer run. In support of these goals, the Committee decided to maintain the target range for the federal funds rate at 5-1/4 to 5-1/2 percent. The Committee will continue to assess additional information and its implications for monetary policy. In determining the extent of any additional policy firming that may be appropriate to return inflation to 2 percent over time, the Committee will take into account the cumulative tightening of monetary policy, the lags with which monetary policy affects economic activity and inflation, and economic and financial developments. In addition, the Committee will continue reducing its holdings of Treasury securities and agency debt and agency mortgage-backed securities, as described in its previously announced plans. The Committee is strongly committed to returning inflation to its 2 percent objective. In assessing the appropriate stance of monetary policy, the Committee will continue to monitor the implications of incoming information for the economic outlook. The Committee would be prepared to adjust the stance of monetary policy as appropriate if risks emerge that could impede the attainment of the Committee's goals. The Committee's assessments will take into account a wide range of information, including readings on labor market conditions, inflation pressures and inflation expectations, and financial and international developments.\""
   ],
   "metadata": {
    "collapsed": false
   }
  },
  {
   "cell_type": "code",
   "execution_count": 4,
   "outputs": [
    {
     "name": "stdout",
     "output_type": "stream",
     "text": [
      "Word Count: 310\n"
     ]
    }
   ],
   "source": [
    "word_count = len(text_test.split())\n",
    "print(f\"Word Count: {word_count}\")"
   ],
   "metadata": {
    "collapsed": false
   }
  },
  {
   "cell_type": "code",
   "execution_count": 7,
   "outputs": [
    {
     "name": "stderr",
     "output_type": "stream",
     "text": [
      "[nltk_data] Downloading package punkt to /Users/tgumpp/nltk_data...\n",
      "[nltk_data]   Unzipping tokenizers/punkt.zip.\n"
     ]
    },
    {
     "name": "stdout",
     "output_type": "stream",
     "text": [
      "[('the', 21), ('.', 16), ('and', 15), (',', 13), ('of', 12), ('to', 12), ('Committee', 11), ('The', 8), ('inflation', 8), ('policy', 6)]\n"
     ]
    }
   ],
   "source": [
    "from nltk import FreqDist\n",
    "from nltk.tokenize import word_tokenize\n",
    "\n",
    "# Download NLTK resources (you need to do this once)\n",
    "nltk.download('punkt')\n",
    "\n",
    "# Tokenize the text\n",
    "tokens = word_tokenize(text_test)\n",
    "\n",
    "# Calculate word frequencies\n",
    "word_freq = FreqDist(tokens)\n",
    "\n",
    "# Display the most common words\n",
    "print(word_freq.most_common(10))"
   ],
   "metadata": {
    "collapsed": false
   }
  },
  {
   "cell_type": "markdown",
   "source": [
    "#### Web Mining FOMC"
   ],
   "metadata": {
    "collapsed": false
   }
  },
  {
   "cell_type": "markdown",
   "source": [
    "Extraction of text is automated, the supply of the corresponding URLs not for now"
   ],
   "metadata": {
    "collapsed": false
   }
  },
  {
   "cell_type": "code",
   "execution_count": 57,
   "outputs": [],
   "source": [
    "fomc_statements_url_list = ['https://www.federalreserve.gov/newsevents/pressreleases/monetary20230201a.htm',\n",
    "                            'https://www.federalreserve.gov/newsevents/pressreleases/monetary20230322a.htm',\n",
    "                            'https://www.federalreserve.gov/newsevents/pressreleases/monetary20230503a.htm',\n",
    "                            'https://www.federalreserve.gov/newsevents/pressreleases/monetary20230614a.htm',\n",
    "                            'https://www.federalreserve.gov/newsevents/pressreleases/monetary20230726a.htm',\n",
    "                            'https://www.federalreserve.gov/newsevents/pressreleases/monetary20230920a.htm',\n",
    "                            'https://www.federalreserve.gov/newsevents/pressreleases/monetary20231101a.htm',\n",
    "                            'https://www.federalreserve.gov/newsevents/pressreleases/monetary20231213a.htm']"
   ],
   "metadata": {
    "collapsed": false
   }
  },
  {
   "cell_type": "code",
   "execution_count": 9,
   "outputs": [],
   "source": [
    "# To automate: Cycle through URLs here\n",
    "url = \"https://www.federalreserve.gov/newsevents/pressreleases/monetary20231101a.htm\"\n",
    "page = requests.get(url)\n",
    "soup = BeautifulSoup(page.text, 'html')"
   ],
   "metadata": {
    "collapsed": false
   }
  },
  {
   "cell_type": "code",
   "execution_count": null,
   "outputs": [],
   "source": [
    "<p class=\"article__time\">December 13, 2023</p>\n",
    "div_list = {'article__time', 'col-xs-12 col-sm-8 col-md-8'}\n",
    "<meta property=\"og:url\" content=\"https://www.federalreserve.gov/newsevents/pressreleases/monetary20231101a.htm\">\n",
    "meta_tag = soup.find('meta', property='og:url').get('content')"
   ],
   "metadata": {
    "collapsed": false
   }
  },
  {
   "cell_type": "code",
   "execution_count": 55,
   "outputs": [],
   "source": [
    "target_text = soup.find('div', class_='col-xs-12 col-sm-8 col-md-8')\n",
    "target_date = soup.find('p', class_='article__time')\n",
    "target_url = soup.find('meta', property='og:url').get('content')"
   ],
   "metadata": {
    "collapsed": false
   }
  },
  {
   "cell_type": "code",
   "execution_count": 80,
   "outputs": [],
   "source": [
    "# TODO: add if / else if mining fails\n",
    "def process_text(text):\n",
    "    list = [title.text.strip() for title in text]\n",
    "    text_final = ' '.join(map(str, list))\n",
    "    return text_final\n",
    "\n",
    "def process_date(date):\n",
    "    raw_date = date.get_text(strip=True)\n",
    "    #print(\"Raw Date:\", raw_date)\n",
    "\n",
    "    # Transform the date format\n",
    "    datetime_object = datetime.strptime(raw_date, '%B %d, %Y')\n",
    "    formatted_date = datetime_object.strftime('%d.%m.%Y')\n",
    "    return formatted_date\n",
    "\n",
    "def process_url(url):\n",
    "    return url.split('/')[-1].split('.')[0]"
   ],
   "metadata": {
    "collapsed": false
   }
  },
  {
   "cell_type": "code",
   "execution_count": 41,
   "outputs": [
    {
     "data": {
      "text/plain": "'https://www.federalreserve.gov/newsevents/pressreleases/monetary20231101a.htm'"
     },
     "execution_count": 41,
     "metadata": {},
     "output_type": "execute_result"
    }
   ],
   "source": [
    "target_website"
   ],
   "metadata": {
    "collapsed": false
   }
  },
  {
   "cell_type": "code",
   "execution_count": 82,
   "outputs": [
    {
     "name": "stderr",
     "output_type": "stream",
     "text": [
      "/var/folders/n_/mj2qn5sd20lb04k5gcvn8fbr0000gn/T/ipykernel_2950/3260275490.py:10: FutureWarning: The frame.append method is deprecated and will be removed from pandas in a future version. Use pandas.concat instead.\n",
      "  df_fomc_press_statements = df_fomc_press_statements.append({'Filename': process_url(target_url), 'Date': process_date(target_date), 'Text': process_text(target_text)}, ignore_index=True)\n",
      "/var/folders/n_/mj2qn5sd20lb04k5gcvn8fbr0000gn/T/ipykernel_2950/3260275490.py:10: FutureWarning: The frame.append method is deprecated and will be removed from pandas in a future version. Use pandas.concat instead.\n",
      "  df_fomc_press_statements = df_fomc_press_statements.append({'Filename': process_url(target_url), 'Date': process_date(target_date), 'Text': process_text(target_text)}, ignore_index=True)\n",
      "/var/folders/n_/mj2qn5sd20lb04k5gcvn8fbr0000gn/T/ipykernel_2950/3260275490.py:10: FutureWarning: The frame.append method is deprecated and will be removed from pandas in a future version. Use pandas.concat instead.\n",
      "  df_fomc_press_statements = df_fomc_press_statements.append({'Filename': process_url(target_url), 'Date': process_date(target_date), 'Text': process_text(target_text)}, ignore_index=True)\n",
      "/var/folders/n_/mj2qn5sd20lb04k5gcvn8fbr0000gn/T/ipykernel_2950/3260275490.py:10: FutureWarning: The frame.append method is deprecated and will be removed from pandas in a future version. Use pandas.concat instead.\n",
      "  df_fomc_press_statements = df_fomc_press_statements.append({'Filename': process_url(target_url), 'Date': process_date(target_date), 'Text': process_text(target_text)}, ignore_index=True)\n",
      "/var/folders/n_/mj2qn5sd20lb04k5gcvn8fbr0000gn/T/ipykernel_2950/3260275490.py:10: FutureWarning: The frame.append method is deprecated and will be removed from pandas in a future version. Use pandas.concat instead.\n",
      "  df_fomc_press_statements = df_fomc_press_statements.append({'Filename': process_url(target_url), 'Date': process_date(target_date), 'Text': process_text(target_text)}, ignore_index=True)\n",
      "/var/folders/n_/mj2qn5sd20lb04k5gcvn8fbr0000gn/T/ipykernel_2950/3260275490.py:10: FutureWarning: The frame.append method is deprecated and will be removed from pandas in a future version. Use pandas.concat instead.\n",
      "  df_fomc_press_statements = df_fomc_press_statements.append({'Filename': process_url(target_url), 'Date': process_date(target_date), 'Text': process_text(target_text)}, ignore_index=True)\n",
      "/var/folders/n_/mj2qn5sd20lb04k5gcvn8fbr0000gn/T/ipykernel_2950/3260275490.py:10: FutureWarning: The frame.append method is deprecated and will be removed from pandas in a future version. Use pandas.concat instead.\n",
      "  df_fomc_press_statements = df_fomc_press_statements.append({'Filename': process_url(target_url), 'Date': process_date(target_date), 'Text': process_text(target_text)}, ignore_index=True)\n",
      "/var/folders/n_/mj2qn5sd20lb04k5gcvn8fbr0000gn/T/ipykernel_2950/3260275490.py:10: FutureWarning: The frame.append method is deprecated and will be removed from pandas in a future version. Use pandas.concat instead.\n",
      "  df_fomc_press_statements = df_fomc_press_statements.append({'Filename': process_url(target_url), 'Date': process_date(target_date), 'Text': process_text(target_text)}, ignore_index=True)\n"
     ]
    }
   ],
   "source": [
    "for x in fomc_statements_url_list:\n",
    "    page = requests.get(x)\n",
    "    soup = BeautifulSoup(page.text, 'html')\n",
    "\n",
    "    target_text = soup.find('div', class_='col-xs-12 col-sm-8 col-md-8')\n",
    "    target_date = soup.find('p', class_='article__time')\n",
    "    target_url = soup.find('meta', property='og:url').get('content')\n",
    "\n",
    "    # run processing and add processed to df\n",
    "    df_fomc_press_statements = df_fomc_press_statements.append({'Filename': process_url(target_url), 'Date': process_date(target_date), 'Text': process_text(target_text)}, ignore_index=True)"
   ],
   "metadata": {
    "collapsed": false
   }
  },
  {
   "cell_type": "code",
   "execution_count": 83,
   "outputs": [
    {
     "data": {
      "text/plain": "         Date                                               Text  \\\n0  01.02.2023   Recent indicators point to modest growth in s...   \n1  22.03.2023   Recent indicators point to modest growth in s...   \n2  03.05.2023   Economic activity expanded at a modest pace i...   \n3  14.06.2023   Recent indicators suggest that economic activ...   \n4  26.07.2023   Recent indicators suggest that economic activ...   \n5  20.09.2023   Recent indicators suggest that economic activ...   \n6  01.11.2023   Recent indicators suggest that economic activ...   \n7  13.12.2023   Recent indicators suggest that growth of econ...   \n\n            Filename  \n0  monetary20230201a  \n1  monetary20230322a  \n2  monetary20230503a  \n3  monetary20230614a  \n4  monetary20230726a  \n5  monetary20230920a  \n6  monetary20231101a  \n7  monetary20231213a  ",
      "text/html": "<div>\n<style scoped>\n    .dataframe tbody tr th:only-of-type {\n        vertical-align: middle;\n    }\n\n    .dataframe tbody tr th {\n        vertical-align: top;\n    }\n\n    .dataframe thead th {\n        text-align: right;\n    }\n</style>\n<table border=\"1\" class=\"dataframe\">\n  <thead>\n    <tr style=\"text-align: right;\">\n      <th></th>\n      <th>Date</th>\n      <th>Text</th>\n      <th>Filename</th>\n    </tr>\n  </thead>\n  <tbody>\n    <tr>\n      <th>0</th>\n      <td>01.02.2023</td>\n      <td>Recent indicators point to modest growth in s...</td>\n      <td>monetary20230201a</td>\n    </tr>\n    <tr>\n      <th>1</th>\n      <td>22.03.2023</td>\n      <td>Recent indicators point to modest growth in s...</td>\n      <td>monetary20230322a</td>\n    </tr>\n    <tr>\n      <th>2</th>\n      <td>03.05.2023</td>\n      <td>Economic activity expanded at a modest pace i...</td>\n      <td>monetary20230503a</td>\n    </tr>\n    <tr>\n      <th>3</th>\n      <td>14.06.2023</td>\n      <td>Recent indicators suggest that economic activ...</td>\n      <td>monetary20230614a</td>\n    </tr>\n    <tr>\n      <th>4</th>\n      <td>26.07.2023</td>\n      <td>Recent indicators suggest that economic activ...</td>\n      <td>monetary20230726a</td>\n    </tr>\n    <tr>\n      <th>5</th>\n      <td>20.09.2023</td>\n      <td>Recent indicators suggest that economic activ...</td>\n      <td>monetary20230920a</td>\n    </tr>\n    <tr>\n      <th>6</th>\n      <td>01.11.2023</td>\n      <td>Recent indicators suggest that economic activ...</td>\n      <td>monetary20231101a</td>\n    </tr>\n    <tr>\n      <th>7</th>\n      <td>13.12.2023</td>\n      <td>Recent indicators suggest that growth of econ...</td>\n      <td>monetary20231213a</td>\n    </tr>\n  </tbody>\n</table>\n</div>"
     },
     "execution_count": 83,
     "metadata": {},
     "output_type": "execute_result"
    }
   ],
   "source": [
    "df_fomc_press_statements"
   ],
   "metadata": {
    "collapsed": false
   }
  },
  {
   "cell_type": "code",
   "execution_count": 61,
   "outputs": [
    {
     "data": {
      "text/plain": "Empty DataFrame\nColumns: [Date, Text, Filename]\nIndex: []",
      "text/html": "<div>\n<style scoped>\n    .dataframe tbody tr th:only-of-type {\n        vertical-align: middle;\n    }\n\n    .dataframe tbody tr th {\n        vertical-align: top;\n    }\n\n    .dataframe thead th {\n        text-align: right;\n    }\n</style>\n<table border=\"1\" class=\"dataframe\">\n  <thead>\n    <tr style=\"text-align: right;\">\n      <th></th>\n      <th>Date</th>\n      <th>Text</th>\n      <th>Filename</th>\n    </tr>\n  </thead>\n  <tbody>\n  </tbody>\n</table>\n</div>"
     },
     "execution_count": 61,
     "metadata": {},
     "output_type": "execute_result"
    }
   ],
   "source": [
    "df_fomc_press_statements"
   ],
   "metadata": {
    "collapsed": false
   }
  },
  {
   "cell_type": "code",
   "execution_count": 14,
   "outputs": [
    {
     "name": "stdout",
     "output_type": "stream",
     "text": [
      "<div class=\"col-xs-12 col-sm-8 col-md-8\">\n",
      " <p>\n",
      "  Recent indicators suggest that economic activity expanded at a strong pace in the third quarter. Job gains have moderated since earlier in the year but remain strong, and the unemployment rate has remained low. Inflation remains elevated.\n",
      " </p>\n",
      " <p>\n",
      "  The U.S. banking system is sound and resilient. Tighter financial and credit conditions for households and businesses are likely to weigh on economic activity, hiring, and inflation. The extent of these effects remains uncertain. The Committee remains highly attentive to inflation risks.\n",
      " </p>\n",
      " <p>\n",
      "  The Committee seeks to achieve maximum employment and inflation at the rate of 2 percent over the longer run. In support of these goals, the Committee decided to maintain the target range for the federal funds rate at 5-1/4 to 5-1/2 percent. The Committee will continue to assess additional information and its implications for monetary policy. In determining the extent of additional policy firming that may be appropriate to return inflation to 2 percent over time, the Committee will take into account the cumulative tightening of monetary policy, the lags with which monetary policy affects economic activity and inflation, and economic and financial developments. In addition, the Committee will continue reducing its holdings of Treasury securities and agency debt and agency mortgage-backed securities, as described in its previously announced plans. The Committee is strongly committed to returning inflation to its 2 percent objective.\n",
      " </p>\n",
      " <p>\n",
      "  In assessing the appropriate stance of monetary policy, the Committee will continue to monitor the implications of incoming information for the economic outlook. The Committee would be prepared to adjust the stance of monetary policy as appropriate if risks emerge that could impede the attainment of the Committee's goals. The Committee's assessments will take into account a wide range of information, including readings on labor market conditions, inflation pressures and inflation expectations, and financial and international developments.\n",
      " </p>\n",
      " <p>\n",
      "  Voting for the monetary policy action were Jerome H. Powell, Chair; John C. Williams, Vice Chair; Michael S. Barr; Michelle W. Bowman; Lisa D. Cook; Austan D. Goolsbee; Patrick Harker; Philip N. Jefferson; Neel Kashkari; Adriana D. Kugler; Lorie K. Logan; and Christopher J. Waller.\n",
      " </p>\n",
      " <p>\n",
      "  For media inquiries, please email\n",
      "  <a href=\"/cdn-cgi/l/email-protection#2a474f4e434b6a4c5848044d455c\">\n",
      "   <span class=\"__cf_email__\" data-cfemail=\"d5b8b0b1bcb495b3a7b7fbb2baa3\">\n",
      "    [email protected]\n",
      "   </span>\n",
      "  </a>\n",
      "  or call 202-452-2955.\n",
      " </p>\n",
      " <p>\n",
      "  <a href=\"/newsevents/pressreleases/monetary20231101a1.htm\">\n",
      "   Implementation Note issued November 1, 2023\n",
      "  </a>\n",
      " </p>\n",
      "</div>\n",
      "\n"
     ]
    }
   ],
   "source": [
    "\n",
    "\n",
    "# Print the content of the found div (if any)\n",
    "if target_div:\n",
    "    print(target_div.prettify())\n",
    "else:\n",
    "    print(\"Div not found.\")"
   ],
   "metadata": {
    "collapsed": false
   }
  },
  {
   "cell_type": "code",
   "execution_count": 29,
   "outputs": [
    {
     "data": {
      "text/plain": "15"
     },
     "execution_count": 29,
     "metadata": {},
     "output_type": "execute_result"
    }
   ],
   "source": [
    "list = [title.text.strip() for title in target_div]\n",
    "len(list)"
   ],
   "metadata": {
    "collapsed": false
   }
  },
  {
   "cell_type": "code",
   "execution_count": 30,
   "outputs": [
    {
     "data": {
      "text/plain": "\" Recent indicators suggest that economic activity expanded at a strong pace in the third quarter. Job gains have moderated since earlier in the year but remain strong, and the unemployment rate has remained low. Inflation remains elevated.  The U.S. banking system is sound and resilient. Tighter financial and credit conditions for households and businesses are likely to weigh on economic activity, hiring, and inflation. The extent of these effects remains uncertain. The Committee remains highly attentive to inflation risks.  The Committee seeks to achieve maximum employment and inflation at the rate of 2 percent over the longer run. In support of these goals, the Committee decided to maintain the target range for the federal funds rate at 5-1/4 to 5-1/2 percent. The Committee will continue to assess additional information and its implications for monetary policy. In determining the extent of additional policy firming that may be appropriate to return inflation to 2 percent over time, the Committee will take into account the cumulative tightening of monetary policy, the lags with which monetary policy affects economic activity and inflation, and economic and financial developments. In addition, the Committee will continue reducing its holdings of Treasury securities and agency debt and agency mortgage-backed securities, as described in its previously announced plans. The Committee is strongly committed to returning inflation to its 2 percent objective.  In assessing the appropriate stance of monetary policy, the Committee will continue to monitor the implications of incoming information for the economic outlook. The Committee would be prepared to adjust the stance of monetary policy as appropriate if risks emerge that could impede the attainment of the Committee's goals. The Committee's assessments will take into account a wide range of information, including readings on labor market conditions, inflation pressures and inflation expectations, and financial and international developments.  Voting for the monetary policy action were Jerome H. Powell, Chair; John C. Williams, Vice Chair; Michael S. Barr; Michelle W. Bowman; Lisa D. Cook; Austan D. Goolsbee; Patrick Harker; Philip N. Jefferson; Neel Kashkari; Adriana D. Kugler; Lorie K. Logan; and Christopher J. Waller.  For media inquiries, please email [email\\xa0protected] or call 202-452-2955.  Implementation Note issued November 1, 2023 \""
     },
     "execution_count": 30,
     "metadata": {},
     "output_type": "execute_result"
    }
   ],
   "source": [
    "text = ' '.join(map(str, list))\n",
    "text"
   ],
   "metadata": {
    "collapsed": false
   }
  },
  {
   "cell_type": "code",
   "execution_count": 81,
   "outputs": [
    {
     "name": "stdout",
     "output_type": "stream",
     "text": [
      "<class 'pandas.core.frame.DataFrame'>\n",
      "Index: 0 entries\n",
      "Data columns (total 3 columns):\n",
      " #   Column    Non-Null Count  Dtype \n",
      "---  ------    --------------  ----- \n",
      " 0   Date      0 non-null      object\n",
      " 1   Text      0 non-null      object\n",
      " 2   Filename  0 non-null      object\n",
      "dtypes: object(3)\n",
      "memory usage: 0.0+ bytes\n"
     ]
    }
   ],
   "source": [
    "df_fomc_press_statements = pd.DataFrame(columns = {\"Filename\", \"Date\", \"Text\"})\n",
    "df_fomc_press_statements.info()"
   ],
   "metadata": {
    "collapsed": false
   }
  },
  {
   "cell_type": "code",
   "execution_count": null,
   "outputs": [],
   "source": [
    "def fill_df():\n",
    "\n",
    "    df_fomc_press_statements['Filename'] = filename\n",
    "    df_fomc_press_statements['Date'] = date\n",
    "    df_fomc_press_statements['Text'] = text"
   ],
   "metadata": {
    "collapsed": false
   }
  },
  {
   "cell_type": "markdown",
   "source": [
    "### Load in inflation data"
   ],
   "metadata": {
    "collapsed": false
   }
  },
  {
   "cell_type": "code",
   "execution_count": null,
   "outputs": [],
   "source": [],
   "metadata": {
    "collapsed": false
   }
  },
  {
   "cell_type": "markdown",
   "source": [
    "### Processing text"
   ],
   "metadata": {
    "collapsed": false
   }
  },
  {
   "cell_type": "markdown",
   "source": [
    "Preprocessing text, these are typical steps to pursue to prepare a meaningful dataset for text.\n",
    "\n",
    "- Lemmanization\n",
    "- Stemming\n",
    "- Removal of Stopwords\n",
    "-"
   ],
   "metadata": {
    "collapsed": false
   }
  },
  {
   "cell_type": "code",
   "execution_count": null,
   "outputs": [],
   "source": [],
   "metadata": {
    "collapsed": false
   }
  },
  {
   "cell_type": "markdown",
   "source": [
    "### First text analysis"
   ],
   "metadata": {
    "collapsed": false
   }
  },
  {
   "cell_type": "code",
   "execution_count": 71,
   "outputs": [],
   "source": [
    "def get_word_count(text):\n",
    "    word_count = len(text.split())\n",
    "    #print(f\"Word Count: {word_count}\")\n",
    "    return word_count\n",
    "\n",
    "def get_char_count(text):\n",
    "    char_count = len(text)\n",
    "    # print(f\"Character Count: {char_count}\")\n",
    "    return char_count"
   ],
   "metadata": {
    "collapsed": false
   }
  },
  {
   "cell_type": "code",
   "execution_count": 69,
   "outputs": [],
   "source": [
    "df_fomc_press_statements = df_fomc_press_statements.assign(WordCount='', CharCount='')"
   ],
   "metadata": {
    "collapsed": false
   }
  },
  {
   "cell_type": "code",
   "execution_count": 75,
   "outputs": [
    {
     "data": {
      "text/plain": "         Date                                               Text  \\\n0  01.02.2023   Recent indicators point to modest growth in s...   \n1  22.03.2023   Recent indicators point to modest growth in s...   \n2  03.05.2023   Economic activity expanded at a modest pace i...   \n3  14.06.2023   Recent indicators suggest that economic activ...   \n4  26.07.2023   Recent indicators suggest that economic activ...   \n\n            Filename WordCount CharCount  \n0  monetary20230201a                      \n1  monetary20230322a                      \n2  monetary20230503a                      \n3  monetary20230614a                      \n4  monetary20230726a                      ",
      "text/html": "<div>\n<style scoped>\n    .dataframe tbody tr th:only-of-type {\n        vertical-align: middle;\n    }\n\n    .dataframe tbody tr th {\n        vertical-align: top;\n    }\n\n    .dataframe thead th {\n        text-align: right;\n    }\n</style>\n<table border=\"1\" class=\"dataframe\">\n  <thead>\n    <tr style=\"text-align: right;\">\n      <th></th>\n      <th>Date</th>\n      <th>Text</th>\n      <th>Filename</th>\n      <th>WordCount</th>\n      <th>CharCount</th>\n    </tr>\n  </thead>\n  <tbody>\n    <tr>\n      <th>0</th>\n      <td>01.02.2023</td>\n      <td>Recent indicators point to modest growth in s...</td>\n      <td>monetary20230201a</td>\n      <td></td>\n      <td></td>\n    </tr>\n    <tr>\n      <th>1</th>\n      <td>22.03.2023</td>\n      <td>Recent indicators point to modest growth in s...</td>\n      <td>monetary20230322a</td>\n      <td></td>\n      <td></td>\n    </tr>\n    <tr>\n      <th>2</th>\n      <td>03.05.2023</td>\n      <td>Economic activity expanded at a modest pace i...</td>\n      <td>monetary20230503a</td>\n      <td></td>\n      <td></td>\n    </tr>\n    <tr>\n      <th>3</th>\n      <td>14.06.2023</td>\n      <td>Recent indicators suggest that economic activ...</td>\n      <td>monetary20230614a</td>\n      <td></td>\n      <td></td>\n    </tr>\n    <tr>\n      <th>4</th>\n      <td>26.07.2023</td>\n      <td>Recent indicators suggest that economic activ...</td>\n      <td>monetary20230726a</td>\n      <td></td>\n      <td></td>\n    </tr>\n  </tbody>\n</table>\n</div>"
     },
     "execution_count": 75,
     "metadata": {},
     "output_type": "execute_result"
    }
   ],
   "source": [
    "df_fomc_press_statements.head()"
   ],
   "metadata": {
    "collapsed": false
   }
  },
  {
   "cell_type": "code",
   "execution_count": 74,
   "outputs": [
    {
     "name": "stderr",
     "output_type": "stream",
     "text": [
      "/var/folders/n_/mj2qn5sd20lb04k5gcvn8fbr0000gn/T/ipykernel_2950/4165163222.py:2: FutureWarning: The frame.append method is deprecated and will be removed from pandas in a future version. Use pandas.concat instead.\n",
      "  df_fomc_press_statements = df_fomc_press_statements.append({'WordCount': get_word_count(x), 'CharCount': get_char_count(x)})\n"
     ]
    },
    {
     "ename": "TypeError",
     "evalue": "Can only append a dict if ignore_index=True",
     "output_type": "error",
     "traceback": [
      "\u001B[0;31m---------------------------------------------------------------------------\u001B[0m",
      "\u001B[0;31mTypeError\u001B[0m                                 Traceback (most recent call last)",
      "Input \u001B[0;32mIn [74]\u001B[0m, in \u001B[0;36m<cell line: 1>\u001B[0;34m()\u001B[0m\n\u001B[1;32m      1\u001B[0m \u001B[38;5;28;01mfor\u001B[39;00m x \u001B[38;5;129;01min\u001B[39;00m df_fomc_press_statements[\u001B[38;5;124m'\u001B[39m\u001B[38;5;124mText\u001B[39m\u001B[38;5;124m'\u001B[39m]:\n\u001B[0;32m----> 2\u001B[0m     df_fomc_press_statements \u001B[38;5;241m=\u001B[39m \u001B[43mdf_fomc_press_statements\u001B[49m\u001B[38;5;241;43m.\u001B[39;49m\u001B[43mappend\u001B[49m\u001B[43m(\u001B[49m\u001B[43m{\u001B[49m\u001B[38;5;124;43m'\u001B[39;49m\u001B[38;5;124;43mWordCount\u001B[39;49m\u001B[38;5;124;43m'\u001B[39;49m\u001B[43m:\u001B[49m\u001B[43m \u001B[49m\u001B[43mget_word_count\u001B[49m\u001B[43m(\u001B[49m\u001B[43mx\u001B[49m\u001B[43m)\u001B[49m\u001B[43m,\u001B[49m\u001B[43m \u001B[49m\u001B[38;5;124;43m'\u001B[39;49m\u001B[38;5;124;43mCharCount\u001B[39;49m\u001B[38;5;124;43m'\u001B[39;49m\u001B[43m:\u001B[49m\u001B[43m \u001B[49m\u001B[43mget_char_count\u001B[49m\u001B[43m(\u001B[49m\u001B[43mx\u001B[49m\u001B[43m)\u001B[49m\u001B[43m}\u001B[49m\u001B[43m)\u001B[49m\n",
      "File \u001B[0;32m~/opt/anaconda3/lib/python3.9/site-packages/pandas/core/frame.py:9039\u001B[0m, in \u001B[0;36mDataFrame.append\u001B[0;34m(self, other, ignore_index, verify_integrity, sort)\u001B[0m\n\u001B[1;32m   8936\u001B[0m \u001B[38;5;124;03m\"\"\"\u001B[39;00m\n\u001B[1;32m   8937\u001B[0m \u001B[38;5;124;03mAppend rows of `other` to the end of caller, returning a new object.\u001B[39;00m\n\u001B[1;32m   8938\u001B[0m \n\u001B[0;32m   (...)\u001B[0m\n\u001B[1;32m   9029\u001B[0m \u001B[38;5;124;03m4  4\u001B[39;00m\n\u001B[1;32m   9030\u001B[0m \u001B[38;5;124;03m\"\"\"\u001B[39;00m\n\u001B[1;32m   9031\u001B[0m warnings\u001B[38;5;241m.\u001B[39mwarn(\n\u001B[1;32m   9032\u001B[0m     \u001B[38;5;124m\"\u001B[39m\u001B[38;5;124mThe frame.append method is deprecated \u001B[39m\u001B[38;5;124m\"\u001B[39m\n\u001B[1;32m   9033\u001B[0m     \u001B[38;5;124m\"\u001B[39m\u001B[38;5;124mand will be removed from pandas in a future version. \u001B[39m\u001B[38;5;124m\"\u001B[39m\n\u001B[0;32m   (...)\u001B[0m\n\u001B[1;32m   9036\u001B[0m     stacklevel\u001B[38;5;241m=\u001B[39mfind_stack_level(),\n\u001B[1;32m   9037\u001B[0m )\n\u001B[0;32m-> 9039\u001B[0m \u001B[38;5;28;01mreturn\u001B[39;00m \u001B[38;5;28;43mself\u001B[39;49m\u001B[38;5;241;43m.\u001B[39;49m\u001B[43m_append\u001B[49m\u001B[43m(\u001B[49m\u001B[43mother\u001B[49m\u001B[43m,\u001B[49m\u001B[43m \u001B[49m\u001B[43mignore_index\u001B[49m\u001B[43m,\u001B[49m\u001B[43m \u001B[49m\u001B[43mverify_integrity\u001B[49m\u001B[43m,\u001B[49m\u001B[43m \u001B[49m\u001B[43msort\u001B[49m\u001B[43m)\u001B[49m\n",
      "File \u001B[0;32m~/opt/anaconda3/lib/python3.9/site-packages/pandas/core/frame.py:9052\u001B[0m, in \u001B[0;36mDataFrame._append\u001B[0;34m(self, other, ignore_index, verify_integrity, sort)\u001B[0m\n\u001B[1;32m   9050\u001B[0m \u001B[38;5;28;01mif\u001B[39;00m \u001B[38;5;28misinstance\u001B[39m(other, \u001B[38;5;28mdict\u001B[39m):\n\u001B[1;32m   9051\u001B[0m     \u001B[38;5;28;01mif\u001B[39;00m \u001B[38;5;129;01mnot\u001B[39;00m ignore_index:\n\u001B[0;32m-> 9052\u001B[0m         \u001B[38;5;28;01mraise\u001B[39;00m \u001B[38;5;167;01mTypeError\u001B[39;00m(\u001B[38;5;124m\"\u001B[39m\u001B[38;5;124mCan only append a dict if ignore_index=True\u001B[39m\u001B[38;5;124m\"\u001B[39m)\n\u001B[1;32m   9053\u001B[0m     other \u001B[38;5;241m=\u001B[39m Series(other)\n\u001B[1;32m   9054\u001B[0m \u001B[38;5;28;01mif\u001B[39;00m other\u001B[38;5;241m.\u001B[39mname \u001B[38;5;129;01mis\u001B[39;00m \u001B[38;5;28;01mNone\u001B[39;00m \u001B[38;5;129;01mand\u001B[39;00m \u001B[38;5;129;01mnot\u001B[39;00m ignore_index:\n",
      "\u001B[0;31mTypeError\u001B[0m: Can only append a dict if ignore_index=True"
     ]
    }
   ],
   "source": [
    "for x in df_fomc_press_statements['Text']:\n",
    "    df_fomc_press_statements = df_fomc_press_statements.append({'WordCount': get_word_count(x), 'CharCount': get_char_count(x)}, ignore_index=True)"
   ],
   "metadata": {
    "collapsed": false
   }
  },
  {
   "cell_type": "code",
   "execution_count": 16,
   "outputs": [
    {
     "data": {
      "text/plain": "['Recent',\n 'indicators',\n 'suggest',\n 'that',\n 'growth',\n 'of',\n 'economic',\n 'activity',\n 'has',\n 'slowed',\n 'from',\n 'its',\n 'strong',\n 'pace',\n 'in',\n 'the',\n 'third',\n 'quarter',\n '.',\n 'Job',\n 'gains',\n 'have',\n 'moderated',\n 'since',\n 'earlier',\n 'in',\n 'the',\n 'year',\n 'but',\n 'remain',\n 'strong',\n ',',\n 'and',\n 'the',\n 'unemployment',\n 'rate',\n 'has',\n 'remained',\n 'low',\n '.',\n 'Inflation',\n 'has',\n 'eased',\n 'over',\n 'the',\n 'past',\n 'year',\n 'but',\n 'remains',\n 'elevated',\n '.',\n 'The',\n 'U.S.',\n 'banking',\n 'system',\n 'is',\n 'sound',\n 'and',\n 'resilient',\n '.',\n 'Tighter',\n 'financial',\n 'and',\n 'credit',\n 'conditions',\n 'for',\n 'households',\n 'and',\n 'businesses',\n 'are',\n 'likely',\n 'to',\n 'weigh',\n 'on',\n 'economic',\n 'activity',\n ',',\n 'hiring',\n ',',\n 'and',\n 'inflation',\n '.',\n 'The',\n 'extent',\n 'of',\n 'these',\n 'effects',\n 'remains',\n 'uncertain',\n '.',\n 'The',\n 'Committee',\n 'remains',\n 'highly',\n 'attentive',\n 'to',\n 'inflation',\n 'risks',\n '.',\n 'The',\n 'Committee',\n 'seeks',\n 'to',\n 'achieve',\n 'maximum',\n 'employment',\n 'and',\n 'inflation',\n 'at',\n 'the',\n 'rate',\n 'of',\n '2',\n 'percent',\n 'over',\n 'the',\n 'longer',\n 'run',\n '.',\n 'In',\n 'support',\n 'of',\n 'these',\n 'goals',\n ',',\n 'the',\n 'Committee',\n 'decided',\n 'to',\n 'maintain',\n 'the',\n 'target',\n 'range',\n 'for',\n 'the',\n 'federal',\n 'funds',\n 'rate',\n 'at',\n '5-1/4',\n 'to',\n '5-1/2',\n 'percent',\n '.',\n 'The',\n 'Committee',\n 'will',\n 'continue',\n 'to',\n 'assess',\n 'additional',\n 'information',\n 'and',\n 'its',\n 'implications',\n 'for',\n 'monetary',\n 'policy',\n '.',\n 'In',\n 'determining',\n 'the',\n 'extent',\n 'of',\n 'any',\n 'additional',\n 'policy',\n 'firming',\n 'that',\n 'may',\n 'be',\n 'appropriate',\n 'to',\n 'return',\n 'inflation',\n 'to',\n '2',\n 'percent',\n 'over',\n 'time',\n ',',\n 'the',\n 'Committee',\n 'will',\n 'take',\n 'into',\n 'account',\n 'the',\n 'cumulative',\n 'tightening',\n 'of',\n 'monetary',\n 'policy',\n ',',\n 'the',\n 'lags',\n 'with',\n 'which',\n 'monetary',\n 'policy',\n 'affects',\n 'economic',\n 'activity',\n 'and',\n 'inflation',\n ',',\n 'and',\n 'economic',\n 'and',\n 'financial',\n 'developments',\n '.',\n 'In',\n 'addition',\n ',',\n 'the',\n 'Committee',\n 'will',\n 'continue',\n 'reducing',\n 'its',\n 'holdings',\n 'of',\n 'Treasury',\n 'securities',\n 'and',\n 'agency',\n 'debt',\n 'and',\n 'agency',\n 'mortgage-backed',\n 'securities',\n ',',\n 'as',\n 'described',\n 'in',\n 'its',\n 'previously',\n 'announced',\n 'plans',\n '.',\n 'The',\n 'Committee',\n 'is',\n 'strongly',\n 'committed',\n 'to',\n 'returning',\n 'inflation',\n 'to',\n 'its',\n '2',\n 'percent',\n 'objective',\n '.',\n 'In',\n 'assessing',\n 'the',\n 'appropriate',\n 'stance',\n 'of',\n 'monetary',\n 'policy',\n ',',\n 'the',\n 'Committee',\n 'will',\n 'continue',\n 'to',\n 'monitor',\n 'the',\n 'implications',\n 'of',\n 'incoming',\n 'information',\n 'for',\n 'the',\n 'economic',\n 'outlook',\n '.',\n 'The',\n 'Committee',\n 'would',\n 'be',\n 'prepared',\n 'to',\n 'adjust',\n 'the',\n 'stance',\n 'of',\n 'monetary',\n 'policy',\n 'as',\n 'appropriate',\n 'if',\n 'risks',\n 'emerge',\n 'that',\n 'could',\n 'impede',\n 'the',\n 'attainment',\n 'of',\n 'the',\n 'Committee',\n \"'s\",\n 'goals',\n '.',\n 'The',\n 'Committee',\n \"'s\",\n 'assessments',\n 'will',\n 'take',\n 'into',\n 'account',\n 'a',\n 'wide',\n 'range',\n 'of',\n 'information',\n ',',\n 'including',\n 'readings',\n 'on',\n 'labor',\n 'market',\n 'conditions',\n ',',\n 'inflation',\n 'pressures',\n 'and',\n 'inflation',\n 'expectations',\n ',',\n 'and',\n 'financial',\n 'and',\n 'international',\n 'developments',\n '.']"
     },
     "execution_count": 16,
     "metadata": {},
     "output_type": "execute_result"
    }
   ],
   "source": [
    "#Tokenizing\n",
    "tokens = nltk.word_tokenize(text_test)"
   ],
   "metadata": {
    "collapsed": false
   }
  },
  {
   "cell_type": "code",
   "execution_count": 24,
   "outputs": [
    {
     "data": {
      "text/plain": "[('Recent', 'JJ'),\n ('indicators', 'NNS'),\n ('suggest', 'VBP'),\n ('that', 'IN'),\n ('growth', 'NN'),\n ('of', 'IN'),\n ('economic', 'JJ'),\n ('activity', 'NN'),\n ('has', 'VBZ'),\n ('slowed', 'VBN'),\n ('from', 'IN'),\n ('its', 'PRP$'),\n ('strong', 'JJ'),\n ('pace', 'NN'),\n ('in', 'IN'),\n ('the', 'DT'),\n ('third', 'JJ'),\n ('quarter', 'NN'),\n ('.', '.'),\n ('Job', 'NNP'),\n ('gains', 'NNS'),\n ('have', 'VBP'),\n ('moderated', 'VBN'),\n ('since', 'IN'),\n ('earlier', 'RBR'),\n ('in', 'IN'),\n ('the', 'DT'),\n ('year', 'NN'),\n ('but', 'CC'),\n ('remain', 'VBP'),\n ('strong', 'JJ'),\n (',', ','),\n ('and', 'CC'),\n ('the', 'DT'),\n ('unemployment', 'NN'),\n ('rate', 'NN'),\n ('has', 'VBZ'),\n ('remained', 'VBN'),\n ('low', 'JJ'),\n ('.', '.'),\n ('Inflation', 'NN'),\n ('has', 'VBZ'),\n ('eased', 'VBN'),\n ('over', 'IN'),\n ('the', 'DT'),\n ('past', 'JJ'),\n ('year', 'NN'),\n ('but', 'CC'),\n ('remains', 'VBZ'),\n ('elevated', 'JJ'),\n ('.', '.'),\n ('The', 'DT'),\n ('U.S.', 'NNP'),\n ('banking', 'NN'),\n ('system', 'NN'),\n ('is', 'VBZ'),\n ('sound', 'JJ'),\n ('and', 'CC'),\n ('resilient', 'JJ'),\n ('.', '.'),\n ('Tighter', 'NNP'),\n ('financial', 'JJ'),\n ('and', 'CC'),\n ('credit', 'NN'),\n ('conditions', 'NNS'),\n ('for', 'IN'),\n ('households', 'NNS'),\n ('and', 'CC'),\n ('businesses', 'NNS'),\n ('are', 'VBP'),\n ('likely', 'JJ'),\n ('to', 'TO'),\n ('weigh', 'VB'),\n ('on', 'IN'),\n ('economic', 'JJ'),\n ('activity', 'NN'),\n (',', ','),\n ('hiring', 'NN'),\n (',', ','),\n ('and', 'CC'),\n ('inflation', 'NN'),\n ('.', '.'),\n ('The', 'DT'),\n ('extent', 'NN'),\n ('of', 'IN'),\n ('these', 'DT'),\n ('effects', 'NNS'),\n ('remains', 'VBZ'),\n ('uncertain', 'JJ'),\n ('.', '.'),\n ('The', 'DT'),\n ('Committee', 'NNP'),\n ('remains', 'VBZ'),\n ('highly', 'RB'),\n ('attentive', 'JJ'),\n ('to', 'TO'),\n ('inflation', 'NN'),\n ('risks', 'NNS'),\n ('.', '.'),\n ('The', 'DT'),\n ('Committee', 'NNP'),\n ('seeks', 'VBZ'),\n ('to', 'TO'),\n ('achieve', 'VB'),\n ('maximum', 'JJ'),\n ('employment', 'NN'),\n ('and', 'CC'),\n ('inflation', 'NN'),\n ('at', 'IN'),\n ('the', 'DT'),\n ('rate', 'NN'),\n ('of', 'IN'),\n ('2', 'CD'),\n ('percent', 'NN'),\n ('over', 'IN'),\n ('the', 'DT'),\n ('longer', 'JJR'),\n ('run', 'NN'),\n ('.', '.'),\n ('In', 'IN'),\n ('support', 'NN'),\n ('of', 'IN'),\n ('these', 'DT'),\n ('goals', 'NNS'),\n (',', ','),\n ('the', 'DT'),\n ('Committee', 'NNP'),\n ('decided', 'VBD'),\n ('to', 'TO'),\n ('maintain', 'VB'),\n ('the', 'DT'),\n ('target', 'NN'),\n ('range', 'NN'),\n ('for', 'IN'),\n ('the', 'DT'),\n ('federal', 'JJ'),\n ('funds', 'NNS'),\n ('rate', 'NN'),\n ('at', 'IN'),\n ('5-1/4', 'JJ'),\n ('to', 'TO'),\n ('5-1/2', 'JJ'),\n ('percent', 'NN'),\n ('.', '.'),\n ('The', 'DT'),\n ('Committee', 'NNP'),\n ('will', 'MD'),\n ('continue', 'VB'),\n ('to', 'TO'),\n ('assess', 'VB'),\n ('additional', 'JJ'),\n ('information', 'NN'),\n ('and', 'CC'),\n ('its', 'PRP$'),\n ('implications', 'NNS'),\n ('for', 'IN'),\n ('monetary', 'JJ'),\n ('policy', 'NN'),\n ('.', '.'),\n ('In', 'IN'),\n ('determining', 'VBG'),\n ('the', 'DT'),\n ('extent', 'NN'),\n ('of', 'IN'),\n ('any', 'DT'),\n ('additional', 'JJ'),\n ('policy', 'NN'),\n ('firming', 'VBG'),\n ('that', 'WDT'),\n ('may', 'MD'),\n ('be', 'VB'),\n ('appropriate', 'JJ'),\n ('to', 'TO'),\n ('return', 'VB'),\n ('inflation', 'NN'),\n ('to', 'TO'),\n ('2', 'CD'),\n ('percent', 'NN'),\n ('over', 'IN'),\n ('time', 'NN'),\n (',', ','),\n ('the', 'DT'),\n ('Committee', 'NNP'),\n ('will', 'MD'),\n ('take', 'VB'),\n ('into', 'IN'),\n ('account', 'NN'),\n ('the', 'DT'),\n ('cumulative', 'JJ'),\n ('tightening', 'NN'),\n ('of', 'IN'),\n ('monetary', 'JJ'),\n ('policy', 'NN'),\n (',', ','),\n ('the', 'DT'),\n ('lags', 'NNS'),\n ('with', 'IN'),\n ('which', 'WDT'),\n ('monetary', 'JJ'),\n ('policy', 'NN'),\n ('affects', 'NNS'),\n ('economic', 'JJ'),\n ('activity', 'NN'),\n ('and', 'CC'),\n ('inflation', 'NN'),\n (',', ','),\n ('and', 'CC'),\n ('economic', 'JJ'),\n ('and', 'CC'),\n ('financial', 'JJ'),\n ('developments', 'NNS'),\n ('.', '.'),\n ('In', 'IN'),\n ('addition', 'NN'),\n (',', ','),\n ('the', 'DT'),\n ('Committee', 'NNP'),\n ('will', 'MD'),\n ('continue', 'VB'),\n ('reducing', 'VBG'),\n ('its', 'PRP$'),\n ('holdings', 'NNS'),\n ('of', 'IN'),\n ('Treasury', 'NNP'),\n ('securities', 'NNS'),\n ('and', 'CC'),\n ('agency', 'NN'),\n ('debt', 'NN'),\n ('and', 'CC'),\n ('agency', 'NN'),\n ('mortgage-backed', 'JJ'),\n ('securities', 'NNS'),\n (',', ','),\n ('as', 'IN'),\n ('described', 'VBN'),\n ('in', 'IN'),\n ('its', 'PRP$'),\n ('previously', 'RB'),\n ('announced', 'VBN'),\n ('plans', 'NNS'),\n ('.', '.'),\n ('The', 'DT'),\n ('Committee', 'NNP'),\n ('is', 'VBZ'),\n ('strongly', 'RB'),\n ('committed', 'VBN'),\n ('to', 'TO'),\n ('returning', 'VBG'),\n ('inflation', 'NN'),\n ('to', 'TO'),\n ('its', 'PRP$'),\n ('2', 'CD'),\n ('percent', 'NN'),\n ('objective', 'NN'),\n ('.', '.'),\n ('In', 'IN'),\n ('assessing', 'VBG'),\n ('the', 'DT'),\n ('appropriate', 'JJ'),\n ('stance', 'NN'),\n ('of', 'IN'),\n ('monetary', 'JJ'),\n ('policy', 'NN'),\n (',', ','),\n ('the', 'DT'),\n ('Committee', 'NNP'),\n ('will', 'MD'),\n ('continue', 'VB'),\n ('to', 'TO'),\n ('monitor', 'VB'),\n ('the', 'DT'),\n ('implications', 'NNS'),\n ('of', 'IN'),\n ('incoming', 'VBG'),\n ('information', 'NN'),\n ('for', 'IN'),\n ('the', 'DT'),\n ('economic', 'JJ'),\n ('outlook', 'NN'),\n ('.', '.'),\n ('The', 'DT'),\n ('Committee', 'NNP'),\n ('would', 'MD'),\n ('be', 'VB'),\n ('prepared', 'VBN'),\n ('to', 'TO'),\n ('adjust', 'VB'),\n ('the', 'DT'),\n ('stance', 'NN'),\n ('of', 'IN'),\n ('monetary', 'JJ'),\n ('policy', 'NN'),\n ('as', 'IN'),\n ('appropriate', 'JJ'),\n ('if', 'IN'),\n ('risks', 'NNS'),\n ('emerge', 'VBP'),\n ('that', 'DT'),\n ('could', 'MD'),\n ('impede', 'VB'),\n ('the', 'DT'),\n ('attainment', 'NN'),\n ('of', 'IN'),\n ('the', 'DT'),\n ('Committee', 'NNP'),\n (\"'s\", 'POS'),\n ('goals', 'NNS'),\n ('.', '.'),\n ('The', 'DT'),\n ('Committee', 'NNP'),\n (\"'s\", 'POS'),\n ('assessments', 'NNS'),\n ('will', 'MD'),\n ('take', 'VB'),\n ('into', 'IN'),\n ('account', 'NN'),\n ('a', 'DT'),\n ('wide', 'JJ'),\n ('range', 'NN'),\n ('of', 'IN'),\n ('information', 'NN'),\n (',', ','),\n ('including', 'VBG'),\n ('readings', 'NNS'),\n ('on', 'IN'),\n ('labor', 'NN'),\n ('market', 'NN'),\n ('conditions', 'NNS'),\n (',', ','),\n ('inflation', 'NN'),\n ('pressures', 'NNS'),\n ('and', 'CC'),\n ('inflation', 'NN'),\n ('expectations', 'NNS'),\n (',', ','),\n ('and', 'CC'),\n ('financial', 'JJ'),\n ('and', 'CC'),\n ('international', 'JJ'),\n ('developments', 'NNS'),\n ('.', '.')]"
     },
     "execution_count": 24,
     "metadata": {},
     "output_type": "execute_result"
    }
   ],
   "source": [
    "nltk.pos_tag(tokens)"
   ],
   "metadata": {
    "collapsed": false
   }
  },
  {
   "cell_type": "code",
   "execution_count": 23,
   "outputs": [
    {
     "name": "stderr",
     "output_type": "stream",
     "text": [
      "[nltk_data] Downloading package averaged_perceptron_tagger to\n",
      "[nltk_data]     /Users/tgumpp/nltk_data...\n",
      "[nltk_data]   Unzipping taggers/averaged_perceptron_tagger.zip.\n"
     ]
    },
    {
     "data": {
      "text/plain": "True"
     },
     "execution_count": 23,
     "metadata": {},
     "output_type": "execute_result"
    }
   ],
   "source": [
    "nltk.download('averaged_perceptron_tagger')"
   ],
   "metadata": {
    "collapsed": false
   }
  },
  {
   "cell_type": "markdown",
   "source": [
    "### Sentiment Analysis"
   ],
   "metadata": {
    "collapsed": false
   }
  },
  {
   "cell_type": "code",
   "execution_count": 20,
   "outputs": [
    {
     "name": "stderr",
     "output_type": "stream",
     "text": [
      "[nltk_data] Downloading package vader_lexicon to\n",
      "[nltk_data]     /Users/tgumpp/nltk_data...\n"
     ]
    },
    {
     "data": {
      "text/plain": "True"
     },
     "execution_count": 20,
     "metadata": {},
     "output_type": "execute_result"
    }
   ],
   "source": [
    "nltk.download('vader_lexicon')"
   ],
   "metadata": {
    "collapsed": false
   }
  },
  {
   "cell_type": "code",
   "execution_count": 68,
   "outputs": [],
   "source": [
    "from tqdm.notebook import tqdm\n",
    "from nltk.sentiment import SentimentIntensityAnalyzer\n",
    "\n",
    "sia = SentimentIntensityAnalyzer()"
   ],
   "metadata": {
    "collapsed": false
   }
  },
  {
   "cell_type": "code",
   "execution_count": 86,
   "outputs": [
    {
     "name": "stdout",
     "output_type": "stream",
     "text": [
      "{'neg': 0.078, 'neu': 0.846, 'pos': 0.076, 'compound': -0.5994}\n",
      "{'neg': 0.047, 'neu': 0.885, 'pos': 0.068, 'compound': 0.765}\n",
      "{'neg': 0.051, 'neu': 0.881, 'pos': 0.068, 'compound': 0.6124}\n",
      "{'neg': 0.05, 'neu': 0.879, 'pos': 0.072, 'compound': 0.743}\n",
      "{'neg': 0.051, 'neu': 0.882, 'pos': 0.067, 'compound': 0.6124}\n",
      "{'neg': 0.062, 'neu': 0.853, 'pos': 0.085, 'compound': 0.775}\n",
      "{'neg': 0.061, 'neu': 0.853, 'pos': 0.086, 'compound': 0.8225}\n",
      "{'neg': 0.059, 'neu': 0.847, 'pos': 0.094, 'compound': 0.9042}\n"
     ]
    }
   ],
   "source": [
    "for x in df_fomc_press_statements['Text']:\n",
    "    #print(type(x))\n",
    "    print(sia.polarity_scores(x))"
   ],
   "metadata": {
    "collapsed": false
   }
  },
  {
   "cell_type": "code",
   "execution_count": 22,
   "outputs": [
    {
     "data": {
      "text/plain": "{'neg': 0.07, 'neu': 0.828, 'pos': 0.103, 'compound': 0.85}"
     },
     "execution_count": 22,
     "metadata": {},
     "output_type": "execute_result"
    }
   ],
   "source": [
    "sia.polarity_scores(text_test)"
   ],
   "metadata": {
    "collapsed": false
   }
  },
  {
   "cell_type": "markdown",
   "source": [
    "#### Roberta"
   ],
   "metadata": {
    "collapsed": false
   }
  },
  {
   "cell_type": "code",
   "execution_count": 25,
   "outputs": [
    {
     "ename": "ModuleNotFoundError",
     "evalue": "No module named 'transformers'",
     "output_type": "error",
     "traceback": [
      "\u001B[0;31m---------------------------------------------------------------------------\u001B[0m",
      "\u001B[0;31mModuleNotFoundError\u001B[0m                       Traceback (most recent call last)",
      "Input \u001B[0;32mIn [25]\u001B[0m, in \u001B[0;36m<cell line: 1>\u001B[0;34m()\u001B[0m\n\u001B[0;32m----> 1\u001B[0m \u001B[38;5;28;01mfrom\u001B[39;00m \u001B[38;5;21;01mtransformers\u001B[39;00m \u001B[38;5;28;01mimport\u001B[39;00m AutoTokenizer\n\u001B[1;32m      2\u001B[0m \u001B[38;5;28;01mfrom\u001B[39;00m \u001B[38;5;21;01mtransformers\u001B[39;00m \u001B[38;5;28;01mimport\u001B[39;00m AutoModelForSequenceClassification\n\u001B[1;32m      3\u001B[0m \u001B[38;5;28;01mfrom\u001B[39;00m \u001B[38;5;21;01mscipy\u001B[39;00m\u001B[38;5;21;01m.\u001B[39;00m\u001B[38;5;21;01mspecial\u001B[39;00m \u001B[38;5;28;01mimport\u001B[39;00m softmax\n",
      "\u001B[0;31mModuleNotFoundError\u001B[0m: No module named 'transformers'"
     ]
    }
   ],
   "source": [
    "from transformers import AutoTokenizer\n",
    "from transformers import AutoModelForSequenceClassification\n",
    "from scipy.special import softmax"
   ],
   "metadata": {
    "collapsed": false
   }
  },
  {
   "cell_type": "code",
   "execution_count": null,
   "outputs": [],
   "source": [],
   "metadata": {
    "collapsed": false
   }
  },
  {
   "cell_type": "markdown",
   "source": [
    "### Comparing sentiment analysis with inflation rate development"
   ],
   "metadata": {
    "collapsed": false
   }
  },
  {
   "cell_type": "code",
   "execution_count": null,
   "outputs": [],
   "source": [],
   "metadata": {
    "collapsed": false
   }
  }
 ],
 "metadata": {
  "kernelspec": {
   "display_name": "Python 3",
   "language": "python",
   "name": "python3"
  },
  "language_info": {
   "codemirror_mode": {
    "name": "ipython",
    "version": 2
   },
   "file_extension": ".py",
   "mimetype": "text/x-python",
   "name": "python",
   "nbconvert_exporter": "python",
   "pygments_lexer": "ipython2",
   "version": "2.7.6"
  }
 },
 "nbformat": 4,
 "nbformat_minor": 0
}
